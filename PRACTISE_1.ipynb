{
  "nbformat": 4,
  "nbformat_minor": 0,
  "metadata": {
    "colab": {
      "provenance": [],
      "authorship_tag": "ABX9TyPnojNZudQUjNH7fX82cEOW",
      "include_colab_link": true
    },
    "kernelspec": {
      "name": "python3",
      "display_name": "Python 3"
    },
    "language_info": {
      "name": "python"
    }
  },
  "cells": [
    {
      "cell_type": "markdown",
      "metadata": {
        "id": "view-in-github",
        "colab_type": "text"
      },
      "source": [
        "<a href=\"https://colab.research.google.com/github/Saisneha0209/Code-/blob/main/PRACTISE_1.ipynb\" target=\"_parent\"><img src=\"https://colab.research.google.com/assets/colab-badge.svg\" alt=\"Open In Colab\"/></a>"
      ]
    },
    {
      "cell_type": "code",
      "execution_count": 10,
      "metadata": {
        "colab": {
          "base_uri": "https://localhost:8080/"
        },
        "id": "gXFgejNJ8PMM",
        "outputId": "340943c6-6082-42a9-f570-5f8c4d67e444"
      },
      "outputs": [
        {
          "output_type": "stream",
          "name": "stdout",
          "text": [
            "sum of first and second number is 25\n",
            "difference of first and second number is 5\n",
            "product of first and second number is 150\n",
            "division of first and second number is 1.5\n"
          ]
        }
      ],
      "source": [
        "first_number=15\n",
        "second_number=10\n",
        "add=first_number+second_number\n",
        "sub=first_number-second_number\n",
        "multiply=first_number*second_number\n",
        "divide=first_number/second_number\n",
        "print(\"sum of first and second number is\",add)\n",
        "print(\"difference of first and second number is\",sub)\n",
        "print(\"product of first and second number is\",multiply)\n",
        "print(\"division of first and second number is\",divide)"
      ]
    },
    {
      "cell_type": "code",
      "source": [
        "length=float(input(\"enter length of the rectangle\"))\n",
        "breadth=float(input(\"enter breadth of the rectangle\"))\n",
        "area=length*breadth\n",
        "print(\"RECTANGLE SPECIFICATIONS\")\n",
        "print(\"length of the rectangle is\",length)\n",
        "print(\"breadth of the rectangle is\",breadth)\n",
        "print(\"area of the rectangle is\",area)"
      ],
      "metadata": {
        "colab": {
          "base_uri": "https://localhost:8080/"
        },
        "id": "WUEW8w5-ABJf",
        "outputId": "35c9e545-005b-468f-9267-ad483ff2468c"
      },
      "execution_count": 12,
      "outputs": [
        {
          "output_type": "stream",
          "name": "stdout",
          "text": [
            "enter length of the rectangle15.2\n",
            "enter breadth of the rectangle10.3\n",
            "RECTANGLE SPECIFICATIONS\n",
            "length of the rectangle is 15.2\n",
            "breadth of the rectangle is 10.3\n",
            "area of the rectangle is 156.56\n"
          ]
        }
      ]
    },
    {
      "cell_type": "code",
      "source": [
        "cels=float(input(\"enter temperature in celsius\"))\n",
        "print(\"temperature in celcius is\",cels)\n",
        "fahr=(int(cels*9/5+32)) #this is the formula to convert celsius into fahrenheit\n",
        "print(\"temperature in fahrenheit is\",fahr)"
      ],
      "metadata": {
        "colab": {
          "base_uri": "https://localhost:8080/"
        },
        "id": "FnKIQavpBI5l",
        "outputId": "8863d2bf-fdee-4dea-d7b9-4030a50769a6"
      },
      "execution_count": 14,
      "outputs": [
        {
          "output_type": "stream",
          "name": "stdout",
          "text": [
            "enter temperature in celsius34\n",
            "temperature in celcius is 34.0\n",
            "temperature in fahrenheit is 93\n"
          ]
        }
      ]
    },
    {
      "cell_type": "code",
      "source": [
        "price_of_per_pizza=120\n",
        "price_of_per_burger=70\n",
        "price_of_per_cake=250\n",
        "order_1=int(input(\"enter the number of pizza ordered\"))\n",
        "order_2=int(input(\"enter the number of burger ordered\"))\n",
        "order_3=int(input(\"enter the number of cake ordered\"))\n",
        "total_amount=price_of_per_pizza+price_of_per_burger+price_of_per_cake\n",
        "discount_percentage=float(input(\"enter discount percentage\"))\n",
        "discount_amount=total_amount*discount_percentage/100\n",
        "payable_am=total_amount-discount_amount\n",
        "print(\"number of pizza ordered\",order_1)\n",
        "print(\"number of burger ordered\",order_2)\n",
        "print(\"number of cake ordered\",order_3)\n",
        "print(\"total amount to be paid is\",total_amount)\n",
        "print(\"discount given to the bill is\",discount_amount)\n",
        "print(\"after discount total amount paid is\",payable_am)"
      ],
      "metadata": {
        "colab": {
          "base_uri": "https://localhost:8080/"
        },
        "id": "CpaCEa3jB3zD",
        "outputId": "9ba423c1-2d05-445d-a885-7325bfc932d1"
      },
      "execution_count": 22,
      "outputs": [
        {
          "output_type": "stream",
          "name": "stdout",
          "text": [
            "enter the number of pizza ordered12\n",
            "enter the number of burger ordered5\n",
            "enter the number of cake ordered12\n",
            "enter discount percentage10\n",
            "number of pizza ordered 12\n",
            "number of burger ordered 5\n",
            "number of cake ordered 12\n",
            "total amount to be paid is 440\n",
            "discount given to the bill is 44.0\n",
            "after discount total amount paid is 396.0\n"
          ]
        }
      ]
    },
    {
      "cell_type": "code",
      "source": [],
      "metadata": {
        "id": "WgYDLg5UICE9"
      },
      "execution_count": null,
      "outputs": []
    }
  ]
}