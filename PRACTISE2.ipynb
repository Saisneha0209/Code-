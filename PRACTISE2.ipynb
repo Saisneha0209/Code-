{
  "nbformat": 4,
  "nbformat_minor": 0,
  "metadata": {
    "colab": {
      "provenance": [],
      "authorship_tag": "ABX9TyMhIDbqudHjchosQzkniMua",
      "include_colab_link": true
    },
    "kernelspec": {
      "name": "python3",
      "display_name": "Python 3"
    },
    "language_info": {
      "name": "python"
    }
  },
  "cells": [
    {
      "cell_type": "markdown",
      "metadata": {
        "id": "view-in-github",
        "colab_type": "text"
      },
      "source": [
        "<a href=\"https://colab.research.google.com/github/Saisneha0209/Code-/blob/main/PRACTISE2.ipynb\" target=\"_parent\"><img src=\"https://colab.research.google.com/assets/colab-badge.svg\" alt=\"Open In Colab\"/></a>"
      ]
    },
    {
      "cell_type": "code",
      "execution_count": 11,
      "metadata": {
        "colab": {
          "base_uri": "https://localhost:8080/"
        },
        "id": "oo8PcoME-Hpi",
        "outputId": "fa497e84-d3bb-4d3c-9257-db17e1550628"
      },
      "outputs": [
        {
          "output_type": "stream",
          "name": "stdout",
          "text": [
            "SHOPPING BILL\n",
            "enter the number of shoes2\n",
            "enter the number of shirts4\n",
            "enter the number of pants3\n",
            "enter the discount coupon12\n",
            " Price of shoes 2200\n",
            " Price of shirts 450\n",
            "Price of pants 320\n",
            "Total number of shoes ordered 2\n",
            "Total number of shirts ordered 4\n",
            "Total number of pants ordered 3\n",
            "total price 6300.8\n"
          ]
        }
      ],
      "source": [
        "#SHOPPING BILL\n",
        "print(\"SHOPPING BILL\")\n",
        "price_of_per_shoes=2200\n",
        "price_of_per_shirt=450\n",
        "price_of_per_pants=320\n",
        "order1=int(input(\"enter the number of shoes\"))\n",
        "order2=int(input(\"enter the number of shirts\"))\n",
        "order3=int(input(\"enter the number of pants\"))\n",
        "total_price=(order1*price_of_per_shoes)+(order2*price_of_per_shirt)+(order3*price_of_per_pants)\n",
        "discount_coupon_on_total_price=int(input(\"enter the discount coupon\"))\n",
        "discount=(total_price*discount_coupon_on_total_price)/100\n",
        "total_price=total_price-discount\n",
        "print(\" Price of shoes\",price_of_per_shoes)\n",
        "print(\" Price of shirts\",price_of_per_shirt)\n",
        "print(\"Price of pants\",price_of_per_pants)\n",
        "print(\"Total number of shoes ordered\",order1)\n",
        "print(\"Total number of shirts ordered\",order2)\n",
        "print(\"Total number of pants ordered\",order3)\n",
        "print(\"total price\",total_price)\n",
        "\n",
        "\n",
        "\n"
      ]
    },
    {
      "cell_type": "code",
      "source": [
        "#Shopping bill using discount coupon\n",
        "print(\"SHOPPING BILL\")\n",
        "two_shirts=360\n",
        "one_pant=690\n",
        "two_hairbands=90\n",
        "shoes=2200\n",
        "total_gst=450\n",
        "print(\"Price of shirts\",two_shirts)\n",
        "print(\"Price of pants\",one_pant)\n",
        "print(\"Price of hairbands\",two_hairbands)\n",
        "print(\"Price of shoes\",shoes)\n",
        "print(\"total gst\",total_gst)\n",
        "total_price=(two_shirts+one_pant+two_hairbands+shoes)\n",
        "MACK_250=30\n",
        "total_price=total_price-MACK_250\n",
        "discount=(total_price*MACK_250)/100\n",
        "total_price=total_price-discount\n",
        "payable_amount=total_price+total_gst\n",
        "print(\"Total price of items:\",total_price)\n",
        "print(\"Discount coupon:\",MACK_250)\n",
        "print(\"Discount given by using coupon:\",MACK_250)\n",
        "print(\"Total amount to be paid:\",payable_amount)"
      ],
      "metadata": {
        "colab": {
          "base_uri": "https://localhost:8080/"
        },
        "id": "ZgV5EFkRM8sD",
        "outputId": "32ccf3b1-1fce-4b18-db7a-5417dce988ff"
      },
      "execution_count": 27,
      "outputs": [
        {
          "output_type": "stream",
          "name": "stdout",
          "text": [
            "SHOPPING BILL\n",
            "Price of shirts 360\n",
            "Price of pants 690\n",
            "Price of hairbands 90\n",
            "Price of shoes 2200\n",
            "total gst 450\n",
            "Total price of items: 2317.0\n",
            "Discount coupon: 30\n",
            "Discount given by using coupon: 30\n",
            "Total amount to be paid: 2767.0\n"
          ]
        }
      ]
    }
  ]
}