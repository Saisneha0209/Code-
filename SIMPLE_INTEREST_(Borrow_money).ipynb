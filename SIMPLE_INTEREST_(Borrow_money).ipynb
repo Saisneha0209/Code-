{
  "nbformat": 4,
  "nbformat_minor": 0,
  "metadata": {
    "colab": {
      "provenance": [],
      "authorship_tag": "ABX9TyOdbr896x7jKWM7bOyrXwwv",
      "include_colab_link": true
    },
    "kernelspec": {
      "name": "python3",
      "display_name": "Python 3"
    },
    "language_info": {
      "name": "python"
    }
  },
  "cells": [
    {
      "cell_type": "markdown",
      "metadata": {
        "id": "view-in-github",
        "colab_type": "text"
      },
      "source": [
        "<a href=\"https://colab.research.google.com/github/Saisneha0209/Code-/blob/main/SIMPLE_INTEREST_(Borrow_money).ipynb\" target=\"_parent\"><img src=\"https://colab.research.google.com/assets/colab-badge.svg\" alt=\"Open In Colab\"/></a>"
      ]
    },
    {
      "cell_type": "code",
      "execution_count": 1,
      "metadata": {
        "colab": {
          "base_uri": "https://localhost:8080/"
        },
        "id": "SHSk2rcJZpvz",
        "outputId": "34a6682a-900e-417b-c8cc-3bab0d28fd23"
      },
      "outputs": [
        {
          "output_type": "stream",
          "name": "stdout",
          "text": [
            "enter the amount you want to borrow:1500\n",
            "enter the current month as 1,2,3,4 etc.2\n",
            "enter the time in which you can return the money(IN MONTHS):1\n",
            "enter the time in which you can return the money(IN DAYS):1\n",
            "enter the year:2500\n",
            "31\n"
          ]
        }
      ],
      "source": [
        "principal_amt=float(input(\"enter the amount you want to borrow:\"))\n",
        "yearly_interest_rate=15\n",
        "monthly_interest_rate=yearly_interest_rate/12\n",
        "current_month=int(input(\"enter the current month as 1,2,3,4 etc.\"))\n",
        "time_in_months=float(input(\"enter the time in which you can return the money(IN MONTHS):\"))\n",
        "time_in_days=float(input(\"enter the time in which you can return the money(IN DAYS):\"))\n",
        "year=int(input(\"enter the year:\"))\n",
        "\n",
        "last_month=0\n",
        "if(current_month<12):\n",
        "  last_month=current_month+time_in_months\n",
        "elif(current_month>=12):\n",
        "  last_month=(current_month+time_in_months)/12\n",
        "\n",
        "days_to_months=float(0)\n",
        "if(last_month == 1 or last_month == 3 or last_month == 5 or last_month == 7 or last_month == 8 or last_month == 10 or last_month == 12):\n",
        "  #days_to_months=time_in_days/31\n",
        "  print(\"31\")\n",
        "elif(last_month == 4 or last_month == 6 or last_month == 9 or last_month == 11):\n",
        "  #days_to_months=time_in_days/30\n",
        "  print(\"30\")\n",
        "elif(last_month == 2):\n",
        "  if year%4==0:\n",
        "    if year%100==0:\n",
        "      if year%400==0:\n",
        "       print(\"29\")\n",
        "      else:\n",
        "       print(\"28\")\n",
        "    else:\n",
        "       print(\"29\")\n",
        "  else:\n",
        "    print(\"28\")\n",
        "else:\n",
        "  print(\"invalid month input\")\n",
        "  time_in_months=float(time_in_months+days_to_months)\n",
        "  simple_interest=float((principal_amt*monthly_interest_rate*time_in_months)/100)\n",
        "  #print(\"The simple interest for,\",principal_amt,\"is\",simple_interest)\n"
      ]
    }
  ]
}