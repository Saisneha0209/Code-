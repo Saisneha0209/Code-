{
  "nbformat": 4,
  "nbformat_minor": 0,
  "metadata": {
    "colab": {
      "provenance": [],
      "authorship_tag": "ABX9TyPr1tQFbNiAaaS4XDLhlyQo",
      "include_colab_link": true
    },
    "kernelspec": {
      "name": "python3",
      "display_name": "Python 3"
    },
    "language_info": {
      "name": "python"
    }
  },
  "cells": [
    {
      "cell_type": "markdown",
      "metadata": {
        "id": "view-in-github",
        "colab_type": "text"
      },
      "source": [
        "<a href=\"https://colab.research.google.com/github/Saisneha0209/Code-/blob/main/STRING_and_PROBLEM_SOLVING.ipynb\" target=\"_parent\"><img src=\"https://colab.research.google.com/assets/colab-badge.svg\" alt=\"Open In Colab\"/></a>"
      ]
    },
    {
      "cell_type": "markdown",
      "source": [
        "#ZeroDivisionError  \n",
        "#Here this is the error                       Traceback (most recent call last)\n",
        "/tmp/ipython-input-1926354841.py in <cell line: 0>()\n",
        "      1 a=10\n",
        "      2 b=0\n",
        "----> 3 print(a/b)\n",
        "\n",
        "ZeroDivisionError: division by zero"
      ],
      "metadata": {
        "id": "Rfm3Cd6__Cgq"
      }
    },
    {
      "cell_type": "code",
      "source": [
        "#when you divide something by 0 then you get error but here what to do\n",
        "#EXCEPTION HANDLING\n",
        "try:\n",
        "  a=10\n",
        "  b=0\n",
        "  print(a/b)\n",
        "except ZeroDivisionError:\n",
        "  print(\"You have obtained 0\")\n",
        "else:\n",
        "  print(\"You have succesfully obtained\")\n",
        "finally:\n",
        "  print(\"THANK YOU SO MUCH\")\n",
        "\n"
      ],
      "metadata": {
        "colab": {
          "base_uri": "https://localhost:8080/"
        },
        "id": "h1s4vo3c9CIg",
        "outputId": "a0daf421-d6d4-41b8-d13c-2fe525347843"
      },
      "execution_count": 8,
      "outputs": [
        {
          "output_type": "stream",
          "name": "stdout",
          "text": [
            "You have obtained 0\n",
            "THANK YOU SO MUCH\n"
          ]
        }
      ]
    },
    {
      "cell_type": "markdown",
      "source": [
        "#STRING\n"
      ],
      "metadata": {
        "id": "tqt-l7gX_VLx"
      }
    },
    {
      "cell_type": "code",
      "source": [
        "#STRING\n",
        "name1=\"Saisneha\"\n",
        "name2=\" Muduli\"#space\n",
        "print(name1+name2)"
      ],
      "metadata": {
        "colab": {
          "base_uri": "https://localhost:8080/"
        },
        "id": "xTwWMWpX-Nx0",
        "outputId": "440e0e59-47a8-478f-f66e-57126b34893a"
      },
      "execution_count": 9,
      "outputs": [
        {
          "output_type": "stream",
          "name": "stdout",
          "text": [
            "Saisneha Muduli\n"
          ]
        }
      ]
    },
    {
      "cell_type": "code",
      "source": [
        "state=\"Punjab\"#always the letter will start from 0[P],1[u],2[n],3[j],4[a],5[b]\n",
        "print(state[5])"
      ],
      "metadata": {
        "colab": {
          "base_uri": "https://localhost:8080/"
        },
        "id": "fgI-dj0g-yFn",
        "outputId": "284c8f0d-985d-4c8f-9425-51e77af43fcc"
      },
      "execution_count": 13,
      "outputs": [
        {
          "output_type": "stream",
          "name": "stdout",
          "text": [
            "b\n"
          ]
        }
      ]
    },
    {
      "cell_type": "code",
      "source": [
        "state=\"punjab\"#to check whether the letter is available in the given alphabet or not\n",
        "if \"n\" in state:\n",
        "  print(\"available\")\n",
        "else:\n",
        "  print(\"unavailable\")"
      ],
      "metadata": {
        "colab": {
          "base_uri": "https://localhost:8080/"
        },
        "id": "XJjLXTntBjvP",
        "outputId": "1d1ec586-32f1-4784-f37d-766fb1ad050d"
      },
      "execution_count": 15,
      "outputs": [
        {
          "output_type": "stream",
          "name": "stdout",
          "text": [
            "available\n"
          ]
        }
      ]
    },
    {
      "cell_type": "code",
      "source": [
        "\"punjab\"#to get all the alphabets in the letter\n",
        "for i in state:\n",
        "  print(i)"
      ],
      "metadata": {
        "colab": {
          "base_uri": "https://localhost:8080/"
        },
        "id": "eq68BGMmCd3a",
        "outputId": "f67a53af-e6a1-4ea8-855b-efc4ec657be2"
      },
      "execution_count": 16,
      "outputs": [
        {
          "output_type": "stream",
          "name": "stdout",
          "text": [
            "p\n",
            "u\n",
            "n\n",
            "j\n",
            "a\n",
            "b\n"
          ]
        }
      ]
    },
    {
      "cell_type": "code",
      "source": [
        "state=\"     saisneha\"#you only want the characters not the space\n",
        "state.strip()"
      ],
      "metadata": {
        "colab": {
          "base_uri": "https://localhost:8080/",
          "height": 35
        },
        "id": "oNNdqNYFC2VV",
        "outputId": "4241f378-2748-406f-a730-cef0c8774d3b"
      },
      "execution_count": 22,
      "outputs": [
        {
          "output_type": "execute_result",
          "data": {
            "text/plain": [
              "'saisneha'"
            ],
            "application/vnd.google.colaboratory.intrinsic+json": {
              "type": "string"
            }
          },
          "metadata": {},
          "execution_count": 22
        }
      ]
    },
    {
      "cell_type": "code",
      "source": [
        "state=\"punjab\"#we have to check whether the alphabets is in letter or not\n",
        "print(state.startswith(\"p\"))\n",
        "print(state.endswith(\"j\"))\n",
        "print(state.replace(\"j\",\"k\"))"
      ],
      "metadata": {
        "colab": {
          "base_uri": "https://localhost:8080/"
        },
        "id": "lApfigT8D1Ro",
        "outputId": "c2df6444-5fa5-4b54-e082-3b28f794a89b"
      },
      "execution_count": 39,
      "outputs": [
        {
          "output_type": "stream",
          "name": "stdout",
          "text": [
            "True\n",
            "False\n",
            "punkab\n"
          ]
        }
      ]
    },
    {
      "cell_type": "markdown",
      "source": [
        "#SLICING(#forward)\n",
        "(to remove)\n"
      ],
      "metadata": {
        "id": "sEsk87naGVKt"
      }
    },
    {
      "cell_type": "code",
      "source": [
        "#slicing\n",
        "UT=\"chandigarh\"\n",
        "UT=UT[0:5]#ek badha ke likhna padega to get first 4 as the alphabet starts from 0 to soo onn....\n",
        "print(UT)\n"
      ],
      "metadata": {
        "colab": {
          "base_uri": "https://localhost:8080/"
        },
        "id": "Ee_e93HWGKns",
        "outputId": "a06f8e5c-9eb8-4024-f207-a8ccf539f5a4"
      },
      "execution_count": 40,
      "outputs": [
        {
          "output_type": "stream",
          "name": "stdout",
          "text": [
            "chand\n"
          ]
        }
      ]
    },
    {
      "cell_type": "code",
      "source": [
        "UT=\"chandigarh\"\n",
        "UT=UT[0:5:2]#ek-ek chhod kar chaiye agar toh\n",
        "print(UT)"
      ],
      "metadata": {
        "colab": {
          "base_uri": "https://localhost:8080/"
        },
        "id": "3P-xaDmtG7_G",
        "outputId": "75f50d9c-1cd4-44a6-8fe4-35a15de72ce6"
      },
      "execution_count": 41,
      "outputs": [
        {
          "output_type": "stream",
          "name": "stdout",
          "text": [
            "cad\n"
          ]
        }
      ]
    },
    {
      "cell_type": "code",
      "source": [
        "#if from in between\n",
        "SI=\"ABKCDF\"\n",
        "SI=SI[3:5]#same we can do minus if we want to remove last words\n",
        "print(SI)"
      ],
      "metadata": {
        "colab": {
          "base_uri": "https://localhost:8080/"
        },
        "id": "mZOMPHctHSFU",
        "outputId": "f028a5f6-eab0-4cd6-d698-726fc0608123"
      },
      "execution_count": 43,
      "outputs": [
        {
          "output_type": "stream",
          "name": "stdout",
          "text": [
            "CD\n"
          ]
        }
      ]
    },
    {
      "cell_type": "code",
      "source": [
        "SI=\"xyz\"#reversing\n",
        "SI=SI[::-1]\n",
        "print(SI)"
      ],
      "metadata": {
        "colab": {
          "base_uri": "https://localhost:8080/"
        },
        "id": "GbS8q6uRHstL",
        "outputId": "e1dd9f37-3f0d-41cd-c434-88adb711d02f"
      },
      "execution_count": 45,
      "outputs": [
        {
          "output_type": "stream",
          "name": "stdout",
          "text": [
            "zyx\n"
          ]
        }
      ]
    },
    {
      "cell_type": "code",
      "source": [
        "SI=\"xyz\"#reversing\n",
        "SI=SI[::-2]\n",
        "print(SI)"
      ],
      "metadata": {
        "colab": {
          "base_uri": "https://localhost:8080/"
        },
        "id": "o5CNsEnfIEm4",
        "outputId": "926f3d12-0e1b-443a-87e9-90146d822b22"
      },
      "execution_count": 46,
      "outputs": [
        {
          "output_type": "stream",
          "name": "stdout",
          "text": [
            "zx\n"
          ]
        }
      ]
    },
    {
      "cell_type": "markdown",
      "source": [
        "#SLICING BACKWARDS\n"
      ],
      "metadata": {
        "id": "LwagZww2JAnc"
      }
    },
    {
      "cell_type": "code",
      "source": [
        "name=\"xyzabc\"\n",
        "S2=name[-5:-2]\n",
        "print(S2)"
      ],
      "metadata": {
        "colab": {
          "base_uri": "https://localhost:8080/"
        },
        "id": "0DwC5lCpIuLR",
        "outputId": "80fbf294-897f-4c85-a484-eb83eacc0b2f"
      },
      "execution_count": 48,
      "outputs": [
        {
          "output_type": "stream",
          "name": "stdout",
          "text": [
            "yza\n"
          ]
        }
      ]
    },
    {
      "cell_type": "markdown",
      "source": [
        "#DO PALINDROME QUESTION"
      ],
      "metadata": {
        "id": "f8Nk1AkWKNgu"
      }
    },
    {
      "cell_type": "markdown",
      "source": [
        "LIST AND TUPLE AND SET AND DICTIONARY=DATA STRUCTURE"
      ],
      "metadata": {
        "id": "4i2NrA_sKTUL"
      }
    },
    {
      "cell_type": "code",
      "source": [
        "Q:a rope is of 36 m and another of 48 m\n",
        "find??"
      ],
      "metadata": {
        "id": "xFFpau3uNODk"
      },
      "execution_count": null,
      "outputs": []
    },
    {
      "cell_type": "code",
      "source": [],
      "metadata": {
        "id": "q78FQlV5PDtK"
      },
      "execution_count": null,
      "outputs": []
    }
  ]
}