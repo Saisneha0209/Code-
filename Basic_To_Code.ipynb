{
  "cells": [
    {
      "cell_type": "markdown",
      "metadata": {
        "id": "view-in-github",
        "colab_type": "text"
      },
      "source": [
        "<a href=\"https://colab.research.google.com/github/Saisneha0209/Code-/blob/main/Basic_To_Code.ipynb\" target=\"_parent\"><img src=\"https://colab.research.google.com/assets/colab-badge.svg\" alt=\"Open In Colab\"/></a>"
      ]
    },
    {
      "cell_type": "code",
      "source": [],
      "metadata": {
        "id": "rq3AW_Yc0u9S"
      },
      "execution_count": null,
      "outputs": []
    },
    {
      "cell_type": "code",
      "source": [
        "a=12\n",
        "b=50\n",
        "print(\"sum of a and b\",a+b)\n"
      ],
      "metadata": {
        "colab": {
          "base_uri": "https://localhost:8080/"
        },
        "id": "MWrzP8k404Sp",
        "outputId": "c7ca574e-18a9-4e52-8d24-f083c7be905e"
      },
      "execution_count": null,
      "outputs": [
        {
          "output_type": "stream",
          "name": "stdout",
          "text": [
            "sum of a and b 62\n"
          ]
        }
      ]
    },
    {
      "cell_type": "code",
      "source": [
        "print(\"Hello World\")"
      ],
      "metadata": {
        "colab": {
          "base_uri": "https://localhost:8080/"
        },
        "id": "lFttM7kr1C_M",
        "outputId": "82c96187-fd8f-4bbb-b244-4d2346220cc1"
      },
      "execution_count": null,
      "outputs": [
        {
          "output_type": "stream",
          "name": "stdout",
          "text": [
            "Hello World\n"
          ]
        }
      ]
    },
    {
      "cell_type": "code",
      "source": [
        "Name=Saisneha\n",
        "print(\"Name\")\n",
        "Age=16\n",
        "print(\"Age\")\n"
      ],
      "metadata": {
        "colab": {
          "base_uri": "https://localhost:8080/",
          "height": 193
        },
        "id": "dnoDh4h01fuy",
        "outputId": "022743c9-9317-422e-8340-0922ea976834"
      },
      "execution_count": null,
      "outputs": [
        {
          "output_type": "error",
          "ename": "NameError",
          "evalue": "name 'Saisneha' is not defined",
          "traceback": [
            "\u001b[0;31m---------------------------------------------------------------------------\u001b[0m",
            "\u001b[0;31mNameError\u001b[0m                                 Traceback (most recent call last)",
            "\u001b[0;32m/tmp/ipython-input-1673592362.py\u001b[0m in \u001b[0;36m<cell line: 0>\u001b[0;34m()\u001b[0m\n\u001b[0;32m----> 1\u001b[0;31m \u001b[0mName\u001b[0m\u001b[0;34m=\u001b[0m\u001b[0mSaisneha\u001b[0m\u001b[0;34m\u001b[0m\u001b[0;34m\u001b[0m\u001b[0m\n\u001b[0m\u001b[1;32m      2\u001b[0m \u001b[0mprint\u001b[0m\u001b[0;34m(\u001b[0m\u001b[0;34m\"Name\"\u001b[0m\u001b[0;34m)\u001b[0m\u001b[0;34m\u001b[0m\u001b[0;34m\u001b[0m\u001b[0m\n\u001b[1;32m      3\u001b[0m \u001b[0mAge\u001b[0m\u001b[0;34m=\u001b[0m\u001b[0;36m16\u001b[0m\u001b[0;34m\u001b[0m\u001b[0;34m\u001b[0m\u001b[0m\n\u001b[1;32m      4\u001b[0m \u001b[0mprint\u001b[0m\u001b[0;34m(\u001b[0m\u001b[0;34m\"Age\"\u001b[0m\u001b[0;34m)\u001b[0m\u001b[0;34m\u001b[0m\u001b[0;34m\u001b[0m\u001b[0m\n",
            "\u001b[0;31mNameError\u001b[0m: name 'Saisneha' is not defined"
          ]
        }
      ]
    },
    {
      "cell_type": "code",
      "source": [
        "print(\"My name is Saisneha\")\n",
        "print(\"\")"
      ],
      "metadata": {
        "colab": {
          "base_uri": "https://localhost:8080/",
          "height": 106
        },
        "id": "CyyokNHU2LOR",
        "outputId": "49d975a3-96ca-4beb-c9ab-75988343bf3f"
      },
      "execution_count": null,
      "outputs": [
        {
          "output_type": "error",
          "ename": "SyntaxError",
          "evalue": "invalid syntax (ipython-input-514058334.py, line 1)",
          "traceback": [
            "\u001b[0;36m  File \u001b[0;32m\"/tmp/ipython-input-514058334.py\"\u001b[0;36m, line \u001b[0;32m1\u001b[0m\n\u001b[0;31m    My name is Saisneha\u001b[0m\n\u001b[0m       ^\u001b[0m\n\u001b[0;31mSyntaxError\u001b[0m\u001b[0;31m:\u001b[0m invalid syntax\n"
          ]
        }
      ]
    },
    {
      "cell_type": "code",
      "source": [
        "a= \"My name is Saisneha\"\n",
        "print(a)\n"
      ],
      "metadata": {
        "colab": {
          "base_uri": "https://localhost:8080/"
        },
        "id": "em34DohN2T3s",
        "outputId": "2ce4bf85-4791-49da-80f5-4fc69c463c50"
      },
      "execution_count": null,
      "outputs": [
        {
          "output_type": "stream",
          "name": "stdout",
          "text": [
            "My name is Saisneha\n"
          ]
        }
      ]
    },
    {
      "cell_type": "code",
      "source": [
        "print(\"1.Add(+)\")\n",
        "print(\"2.Subtract(-)\")\n",
        "print(\"3.Multiply(*)\")\n",
        "print(\"4.Divide(/)\")\n",
        "choice=(\"choice can be 1/2/3/4\")\n",
        "\n",
        "num1=(\"Enter first number:\")\n",
        "num2=(\"Enter second number:\")\n",
        "if (\"choice==1\"):\n",
        "  print(num)\n"
      ],
      "metadata": {
        "id": "t4zdWC_N5J76"
      },
      "execution_count": null,
      "outputs": []
    },
    {
      "cell_type": "code",
      "source": [
        "a=(\"Saisneha\")\n",
        "b=(\"Muduli\")\n",
        "print(a+b)\n"
      ],
      "metadata": {
        "colab": {
          "base_uri": "https://localhost:8080/"
        },
        "id": "QidqhiSP_J8t",
        "outputId": "d5eb4c8e-a74c-48de-fb04-8d0694e44cc7"
      },
      "execution_count": 6,
      "outputs": [
        {
          "output_type": "stream",
          "name": "stdout",
          "text": [
            "SaisnehaMuduli\n"
          ]
        }
      ]
    },
    {
      "cell_type": "code",
      "source": [
        "a=2\n",
        "b=3\n",
        "print(a+b)"
      ],
      "metadata": {
        "colab": {
          "base_uri": "https://localhost:8080/"
        },
        "id": "1ICzd0dy_v7M",
        "outputId": "172b4b65-9293-4f02-91fa-a5fd6a4b7138"
      },
      "execution_count": 11,
      "outputs": [
        {
          "output_type": "stream",
          "name": "stdout",
          "text": [
            "5\n"
          ]
        }
      ]
    },
    {
      "cell_type": "code",
      "source": [
        "print(\"Account holder name=Damini Rishi\")\n",
        "print(\"Account number=6235897165\")\n",
        "print(\"Residential Address=House no413,Sector 32 A,CHD\")\n",
        "print(\"Mobile Number=8936745289\")\n"
      ],
      "metadata": {
        "colab": {
          "base_uri": "https://localhost:8080/"
        },
        "id": "qLdTvCwiAgzB",
        "outputId": "4277028a-b867-48c4-b9db-33cdf3795ff0"
      },
      "execution_count": 13,
      "outputs": [
        {
          "output_type": "stream",
          "name": "stdout",
          "text": [
            "Account holder name=Damini Rishi\n",
            "Account number=6235897165\n",
            "Residential Address=House no413,Sector 32 A,CHD\n",
            "Mobile Number=8936745289\n"
          ]
        }
      ]
    },
    {
      "cell_type": "code",
      "source": [
        "print(\"POPULATION OF DIFFERENT STATES\")\n",
        "print(\"1.Punjab's population is 31.188 million\")\n",
        "print(\"2.Odisha's population is 4.19 million\")\n",
        "print(\"3.Gujarat's population is 74.14 million\")\n",
        "print(\"4.Uttrakhand's population is 1.86 million\")\n"
      ],
      "metadata": {
        "colab": {
          "base_uri": "https://localhost:8080/"
        },
        "id": "pattddHr9BWQ",
        "outputId": "ee5c2f16-647d-480e-cc0c-531fb41f0efb"
      },
      "execution_count": 3,
      "outputs": [
        {
          "output_type": "stream",
          "name": "stdout",
          "text": [
            "POPULATION OF DIFFERENT STATES\n",
            "1.Punjab's population is 31.188 million\n",
            "2.Odisha's population is 4.19 million\n",
            "3.Gujarat's population is 74.14 million\n",
            "4.Uttrakhand's population is 1.86 million\n"
          ]
        }
      ]
    },
    {
      "cell_type": "code",
      "source": [
        "print(\"My name is Saisneha\")\n",
        "print(\"My age is 16\")\n",
        "print(\"I belong to Odisha\")\n",
        "print(\"I currently live in Chandigarh\")\n",
        "print(\"My highest qualification is 10th pass\")\n",
        "print(\"My hobbies are studying,dancing and singing\")\n",
        "print(\"I am currently studying in KV\")"
      ],
      "metadata": {
        "colab": {
          "base_uri": "https://localhost:8080/"
        },
        "id": "4p-2qYCl2ohX",
        "outputId": "b796f056-d306-4f90-893c-b0ab321bb097"
      },
      "execution_count": null,
      "outputs": [
        {
          "output_type": "stream",
          "name": "stdout",
          "text": [
            "My name is Saisneha\n",
            "My age is 16\n",
            "I belong to Odisha\n",
            "I currently live in Chandigarh\n",
            "My highest qualification is 10th pass\n",
            "My hobbies are studying,dancing and singing\n",
            "I am currently studying in KV\n"
          ]
        }
      ]
    },
    {
      "cell_type": "code",
      "source": [
        "a=(\"My name is Saisneha\")\n",
        "print(a)\n",
        "b=(\"I study in class 11th\")\n",
        "print(b)"
      ],
      "metadata": {
        "colab": {
          "base_uri": "https://localhost:8080/"
        },
        "id": "EmIZYFuq3vlR",
        "outputId": "e29a41ce-b1e2-4a51-ce68-4db74811075f"
      },
      "execution_count": null,
      "outputs": [
        {
          "output_type": "stream",
          "name": "stdout",
          "text": [
            "My name is Saisneha\n",
            "I study in class 11th\n"
          ]
        }
      ]
    },
    {
      "cell_type": "markdown",
      "source": [],
      "metadata": {
        "id": "1rm8Sgfk16QK"
      }
    }
  ],
  "metadata": {
    "colab": {
      "provenance": [],
      "include_colab_link": true
    },
    "kernelspec": {
      "display_name": "Python 3",
      "name": "python3"
    }
  },
  "nbformat": 4,
  "nbformat_minor": 0
}