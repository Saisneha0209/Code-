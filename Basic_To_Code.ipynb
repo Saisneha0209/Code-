{
  "cells": [
    {
      "cell_type": "markdown",
      "metadata": {
        "id": "view-in-github",
        "colab_type": "text"
      },
      "source": [
        "<a href=\"https://colab.research.google.com/github/Saisneha0209/Code-/blob/main/Basic_To_Code.ipynb\" target=\"_parent\"><img src=\"https://colab.research.google.com/assets/colab-badge.svg\" alt=\"Open In Colab\"/></a>"
      ]
    },
    {
      "cell_type": "code",
      "source": [],
      "metadata": {
        "id": "rq3AW_Yc0u9S"
      },
      "execution_count": null,
      "outputs": []
    },
    {
      "cell_type": "markdown",
      "source": [
        "#SUM OF VARIABLES"
      ],
      "metadata": {
        "id": "zm4QmcGKGbNt"
      }
    },
    {
      "cell_type": "code",
      "source": [
        "a=12\n",
        "b=50\n",
        "print(\"sum of a and b\",a+b)\n"
      ],
      "metadata": {
        "colab": {
          "base_uri": "https://localhost:8080/"
        },
        "id": "MWrzP8k404Sp",
        "outputId": "c7ca574e-18a9-4e52-8d24-f083c7be905e"
      },
      "execution_count": null,
      "outputs": [
        {
          "output_type": "stream",
          "name": "stdout",
          "text": [
            "sum of a and b 62\n"
          ]
        }
      ]
    },
    {
      "cell_type": "code",
      "source": [
        "print(\"Hello World\")"
      ],
      "metadata": {
        "colab": {
          "base_uri": "https://localhost:8080/"
        },
        "id": "lFttM7kr1C_M",
        "outputId": "82c96187-fd8f-4bbb-b244-4d2346220cc1"
      },
      "execution_count": null,
      "outputs": [
        {
          "output_type": "stream",
          "name": "stdout",
          "text": [
            "Hello World\n"
          ]
        }
      ]
    },
    {
      "cell_type": "code",
      "source": [
        "a= \"My name is Saisneha\"\n",
        "print(a)\n"
      ],
      "metadata": {
        "colab": {
          "base_uri": "https://localhost:8080/"
        },
        "id": "em34DohN2T3s",
        "outputId": "2ce4bf85-4791-49da-80f5-4fc69c463c50"
      },
      "execution_count": null,
      "outputs": [
        {
          "output_type": "stream",
          "name": "stdout",
          "text": [
            "My name is Saisneha\n"
          ]
        }
      ]
    },
    {
      "cell_type": "markdown",
      "source": [
        "#DAILY ROUTINE"
      ],
      "metadata": {
        "id": "9maRSpFyFdc5"
      }
    },
    {
      "cell_type": "code",
      "source": [
        "#DAILY ROUTINE\n",
        "#CHORES\n",
        "print(\"DAILY ROUTINE:-\")\n",
        "print(\"MORNING chores=7AM to 8AM\")\n",
        "print(\"SCHOOL=8AM to 2PM\")\n",
        "print(\"COACHING=3PM to 6PM\")\n",
        "print(\"HOME WORK=6PM TO 8PM\")\n",
        "print(\"SELF STUDY=8PM TO 10PM\")\n",
        "print(\"DINNER AND SLEEP=By 11PM\")"
      ],
      "metadata": {
        "colab": {
          "base_uri": "https://localhost:8080/"
        },
        "id": "cJGUSG0qDIQi",
        "outputId": "dc7d4c7e-06a3-4d08-dcde-92eb26fd9bc0"
      },
      "execution_count": 15,
      "outputs": [
        {
          "output_type": "stream",
          "name": "stdout",
          "text": [
            "DAILY ROUTINE:-\n",
            "MORNING chores=7AM to 8AM\n",
            "SCHOOL=8AM to 2PM\n",
            "COACHING=3PM to 6PM\n",
            "HOME WORK=6PM TO 8PM\n",
            "SELF STUDY=8PM TO 10PM\n",
            "DINNER AND SLEEP=By 11PM\n"
          ]
        }
      ]
    },
    {
      "cell_type": "code",
      "source": [
        "a=(\"Saisneha\")\n",
        "b=(\"Muduli\")\n",
        "print(a+b)\n"
      ],
      "metadata": {
        "colab": {
          "base_uri": "https://localhost:8080/"
        },
        "id": "QidqhiSP_J8t",
        "outputId": "d5eb4c8e-a74c-48de-fb04-8d0694e44cc7"
      },
      "execution_count": 6,
      "outputs": [
        {
          "output_type": "stream",
          "name": "stdout",
          "text": [
            "SaisnehaMuduli\n"
          ]
        }
      ]
    },
    {
      "cell_type": "code",
      "source": [
        "a=2\n",
        "b=3\n",
        "print(a+b)"
      ],
      "metadata": {
        "colab": {
          "base_uri": "https://localhost:8080/"
        },
        "id": "1ICzd0dy_v7M",
        "outputId": "172b4b65-9293-4f02-91fa-a5fd6a4b7138"
      },
      "execution_count": 11,
      "outputs": [
        {
          "output_type": "stream",
          "name": "stdout",
          "text": [
            "5\n"
          ]
        }
      ]
    },
    {
      "cell_type": "markdown",
      "source": [
        "#ACCOUNT HOLDER"
      ],
      "metadata": {
        "id": "RGYnmH-kFiy2"
      }
    },
    {
      "cell_type": "code",
      "source": [
        "#Bank details\n",
        "print(\"Account holder name=Damini Rishi\")\n",
        "print(\"Account number=6235897165\")\n",
        "print(\"Residential Address=House no413,Sector 32 A,CHD\")\n",
        "print(\"Mobile Number=8936745289\")\n"
      ],
      "metadata": {
        "colab": {
          "base_uri": "https://localhost:8080/"
        },
        "id": "qLdTvCwiAgzB",
        "outputId": "4277028a-b867-48c4-b9db-33cdf3795ff0"
      },
      "execution_count": 13,
      "outputs": [
        {
          "output_type": "stream",
          "name": "stdout",
          "text": [
            "Account holder name=Damini Rishi\n",
            "Account number=6235897165\n",
            "Residential Address=House no413,Sector 32 A,CHD\n",
            "Mobile Number=8936745289\n"
          ]
        }
      ]
    },
    {
      "cell_type": "markdown",
      "source": [
        "#POPULATION OF DIFFERENT STATES"
      ],
      "metadata": {
        "id": "K1x7uOC7FqCd"
      }
    },
    {
      "cell_type": "code",
      "source": [
        "#PPopulation\n",
        "print(\"POPULATION OF DIFFERENT STATES\")\n",
        "print(\"1.Punjab's population is 31.188 million\")\n",
        "print(\"2.Odisha's population is 4.19 million\")\n",
        "print(\"3.Gujarat's population is 74.14 million\")\n",
        "print(\"4.Uttrakhand's population is 1.86 million\")\n"
      ],
      "metadata": {
        "colab": {
          "base_uri": "https://localhost:8080/"
        },
        "id": "pattddHr9BWQ",
        "outputId": "fa54ba86-cbdf-4d4e-b9d3-11489ad30a9f"
      },
      "execution_count": 16,
      "outputs": [
        {
          "output_type": "stream",
          "name": "stdout",
          "text": [
            "POPULATION OF DIFFERENT STATES\n",
            "1.Punjab's population is 31.188 million\n",
            "2.Odisha's population is 4.19 million\n",
            "3.Gujarat's population is 74.14 million\n",
            "4.Uttrakhand's population is 1.86 million\n"
          ]
        }
      ]
    },
    {
      "cell_type": "markdown",
      "source": [
        "#BIO DATA"
      ],
      "metadata": {
        "id": "sIORDSBjF3g4"
      }
    },
    {
      "cell_type": "code",
      "source": [
        "#BIO DATA\n",
        "print(\"My name is Saisneha\")\n",
        "print(\"My age is 16\")\n",
        "print(\"I belong to Odisha\")\n",
        "print(\"I currently live in Chandigarh\")\n",
        "print(\"My highest qualification is 10th pass\")\n",
        "print(\"My hobbies are studying,dancing and singing\")\n",
        "print(\"I am currently studying in KV\")"
      ],
      "metadata": {
        "colab": {
          "base_uri": "https://localhost:8080/"
        },
        "id": "4p-2qYCl2ohX",
        "outputId": "b796f056-d306-4f90-893c-b0ab321bb097"
      },
      "execution_count": null,
      "outputs": [
        {
          "output_type": "stream",
          "name": "stdout",
          "text": [
            "My name is Saisneha\n",
            "My age is 16\n",
            "I belong to Odisha\n",
            "I currently live in Chandigarh\n",
            "My highest qualification is 10th pass\n",
            "My hobbies are studying,dancing and singing\n",
            "I am currently studying in KV\n"
          ]
        }
      ]
    },
    {
      "cell_type": "code",
      "source": [
        "a=(\"My name is Saisneha\")\n",
        "print(a)\n",
        "b=(\"I study in class 11th\")\n",
        "print(b)"
      ],
      "metadata": {
        "colab": {
          "base_uri": "https://localhost:8080/"
        },
        "id": "EmIZYFuq3vlR",
        "outputId": "e29a41ce-b1e2-4a51-ce68-4db74811075f"
      },
      "execution_count": null,
      "outputs": [
        {
          "output_type": "stream",
          "name": "stdout",
          "text": [
            "My name is Saisneha\n",
            "I study in class 11th\n"
          ]
        }
      ]
    },
    {
      "cell_type": "markdown",
      "source": [],
      "metadata": {
        "id": "1rm8Sgfk16QK"
      }
    }
  ],
  "metadata": {
    "colab": {
      "provenance": [],
      "include_colab_link": true
    },
    "kernelspec": {
      "display_name": "Python 3",
      "name": "python3"
    }
  },
  "nbformat": 4,
  "nbformat_minor": 0
}