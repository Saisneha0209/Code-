{
  "nbformat": 4,
  "nbformat_minor": 0,
  "metadata": {
    "colab": {
      "provenance": [],
      "authorship_tag": "ABX9TyOWmxdxvXoZWnmGzLTCmUf7",
      "include_colab_link": true
    },
    "kernelspec": {
      "name": "python3",
      "display_name": "Python 3"
    },
    "language_info": {
      "name": "python"
    }
  },
  "cells": [
    {
      "cell_type": "markdown",
      "metadata": {
        "id": "view-in-github",
        "colab_type": "text"
      },
      "source": [
        "<a href=\"https://colab.research.google.com/github/Saisneha0209/Code-/blob/main/SET_and_DICTIONARIES_1.ipynb\" target=\"_parent\"><img src=\"https://colab.research.google.com/assets/colab-badge.svg\" alt=\"Open In Colab\"/></a>"
      ]
    },
    {
      "cell_type": "code",
      "execution_count": null,
      "metadata": {
        "id": "cW1G9WHKAyCP"
      },
      "outputs": [],
      "source": [
        "#Indexing nahi hota.\n",
        "#yahan append nahi add hota h.\n"
      ]
    },
    {
      "cell_type": "markdown",
      "source": [
        "#SET"
      ],
      "metadata": {
        "id": "a3lra_Z_LoBg"
      }
    },
    {
      "cell_type": "code",
      "source": [
        "#SET\n",
        "a={1,2,3,4,5,6,7,8,9,1,5,4,2,7,8,3,1}\n",
        "print(a)"
      ],
      "metadata": {
        "colab": {
          "base_uri": "https://localhost:8080/"
        },
        "id": "bxnlsGwgLdjk",
        "outputId": "a3745145-a4a0-43dc-80f3-9b0e9194537e"
      },
      "execution_count": 10,
      "outputs": [
        {
          "output_type": "stream",
          "name": "stdout",
          "text": [
            "{1, 2, 3, 4, 5, 6, 7, 8, 9}\n"
          ]
        }
      ]
    },
    {
      "cell_type": "markdown",
      "source": [
        "#DICTIONARY\n"
      ],
      "metadata": {
        "id": "4cmj128DKEfb"
      }
    },
    {
      "cell_type": "code",
      "source": [
        "a={\"name\":\"sai\",#first one are called keys #changable value not allowed with key so only tuple is allowed,but\n",
        "   \"age\":20}  #the second one called values you can take any data type\n",
        "print(a)"
      ],
      "metadata": {
        "colab": {
          "base_uri": "https://localhost:8080/"
        },
        "id": "c6qTbqLRI31d",
        "outputId": "29757eb9-decc-41ca-c37d-4408493a9954"
      },
      "execution_count": 4,
      "outputs": [
        {
          "output_type": "stream",
          "name": "stdout",
          "text": [
            "{'name': 'sai', 'age': 20}\n"
          ]
        }
      ]
    },
    {
      "cell_type": "code",
      "source": [
        "a={\"Name\":\"Saisneha\",\n",
        "  \"Class\":11,\n",
        "   \"Age\":16,\n",
        "   \"Stream\":\"NON MED(SCIENCE)\"}\n",
        "print(a)"
      ],
      "metadata": {
        "colab": {
          "base_uri": "https://localhost:8080/"
        },
        "id": "Z4Ojpx5HKHcp",
        "outputId": "3734ab1e-c03c-4acc-9937-51ab9ad93f6e"
      },
      "execution_count": 7,
      "outputs": [
        {
          "output_type": "stream",
          "name": "stdout",
          "text": [
            "{'Name': 'Saisneha', 'Class': 11, 'Age': 16, 'Stream': 'NON MED(SCIENCE)'}\n"
          ]
        }
      ]
    },
    {
      "cell_type": "code",
      "source": [
        "a={\"Name\":\"Saisneha\",\n",
        "  \"Class\":11,\n",
        "   \"Age\":16,\n",
        "   \"Stream\":\"NON MED(SCIENCE)\"}\n",
        "for key,value in a.items():\n",
        " print(key,\"=\",value)\n"
      ],
      "metadata": {
        "colab": {
          "base_uri": "https://localhost:8080/"
        },
        "id": "bv1l4n32KqJf",
        "outputId": "297128c6-84d1-4f8b-d2e8-3095c7292636"
      },
      "execution_count": 8,
      "outputs": [
        {
          "output_type": "stream",
          "name": "stdout",
          "text": [
            "Name = Saisneha\n",
            "Class = 11\n",
            "Age = 16\n",
            "Stream = NON MED(SCIENCE)\n"
          ]
        }
      ]
    },
    {
      "cell_type": "markdown",
      "source": [
        "#To print keys and the value together with equal sign\n"
      ],
      "metadata": {
        "id": "1ZlODfeMNygK"
      }
    },
    {
      "cell_type": "code",
      "metadata": {
        "colab": {
          "base_uri": "https://localhost:8080/"
        },
        "id": "254e4e91",
        "outputId": "f21dd8c7-92da-4e9e-b6e9-cbdf6b3eeba9"
      },
      "source": [
        "restaurant_bill={\"customer_name\": \"Vineet Jasuja\",\n",
        "                 \"item\":\"Burger\",\n",
        "                 \"price\":90,\n",
        "                 \"item2\":\"Fries\",\n",
        "                 \"price2\":120,\n",
        "                 \"Item3\":\"Drink\",\n",
        "                 \"price3\": 50,\n",
        "                 \"discount\":15}\n",
        "for key,value in restaurant_bill.items():\n",
        " print(key,\"=\",value)"
      ],
      "execution_count": 15,
      "outputs": [
        {
          "output_type": "stream",
          "name": "stdout",
          "text": [
            "customer_name = Vineet Jasuja\n",
            "item = Burger\n",
            "price = 90\n",
            "item2 = Fries\n",
            "price2 = 120\n",
            "Item3 = Drink\n",
            "price3 = 50\n",
            "discount = 15\n"
          ]
        }
      ]
    },
    {
      "cell_type": "markdown",
      "source": [
        "#To print value only not the keys\n"
      ],
      "metadata": {
        "id": "tYY5Uo3yNs9E"
      }
    },
    {
      "cell_type": "code",
      "source": [
        "restaurant_bill={\"customer_name\": \"Vineet Jasuja\",\n",
        "                 \"item\":\"Burger\",\n",
        "                 \"price\":90,\n",
        "                 \"item2\":\"Fries\",\n",
        "                 \"price2\":120,\n",
        "                 \"Item3\":\"Drink\",\n",
        "                 \"price3\": 50,\n",
        "                 \"discount\":15}\n",
        "for value in restaurant_bill.values():\n",
        " print(value)"
      ],
      "metadata": {
        "colab": {
          "base_uri": "https://localhost:8080/"
        },
        "id": "FVt9G_FGNH2-",
        "outputId": "120cad2d-1aee-4afb-be0e-00053d7bedd2"
      },
      "execution_count": 18,
      "outputs": [
        {
          "output_type": "stream",
          "name": "stdout",
          "text": [
            "Vineet Jasuja\n",
            "Burger\n",
            "90\n",
            "Fries\n",
            "120\n",
            "Drink\n",
            "50\n",
            "15\n"
          ]
        }
      ]
    },
    {
      "cell_type": "markdown",
      "source": [
        "#TOTAL BILL"
      ],
      "metadata": {
        "id": "WBqCaYG3O7AM"
      }
    },
    {
      "cell_type": "code",
      "source": [
        "restaurant_bill={\"customer_name\": \"Vineet Jasuja\",\n",
        "                 \"item\":\"Burger\",\n",
        "                 \"price\":90,\n",
        "                 \"item2\":\"Fries\",\n",
        "                 \"price2\":120,\n",
        "                 \"Item3\":\"Drink\",\n",
        "                 \"price3\": 50,\n",
        "                 \"discount\":15}\n",
        "\n",
        "total_price = restaurant_bill[\"price\"] + restaurant_bill[\"price2\"] + restaurant_bill[\"price3\"]\n",
        "discount_amount = restaurant_bill[\"discount\"]\n",
        "final_bill = total_price - discount_amount\n",
        "\n",
        "print(\"Total price of items:\", total_price)\n",
        "print(\"Discount amount:\", discount_amount)\n",
        "print(\"Final bill:\", final_bill)"
      ],
      "metadata": {
        "colab": {
          "base_uri": "https://localhost:8080/"
        },
        "id": "qjlpoPk1OHux",
        "outputId": "3271d491-c208-46ec-b658-af3513c8f365"
      },
      "execution_count": 22,
      "outputs": [
        {
          "output_type": "stream",
          "name": "stdout",
          "text": [
            "Total price of items: 260\n",
            "Discount amount: 15\n",
            "Final bill: 245\n"
          ]
        }
      ]
    }
  ]
}