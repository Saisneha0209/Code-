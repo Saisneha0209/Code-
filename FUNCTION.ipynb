{
  "nbformat": 4,
  "nbformat_minor": 0,
  "metadata": {
    "colab": {
      "provenance": [],
      "authorship_tag": "ABX9TyMBBiKebJjZyf5QV7slMxGW",
      "include_colab_link": true
    },
    "kernelspec": {
      "name": "python3",
      "display_name": "Python 3"
    },
    "language_info": {
      "name": "python"
    }
  },
  "cells": [
    {
      "cell_type": "markdown",
      "metadata": {
        "id": "view-in-github",
        "colab_type": "text"
      },
      "source": [
        "<a href=\"https://colab.research.google.com/github/Saisneha0209/Code-/blob/main/FUNCTION.ipynb\" target=\"_parent\"><img src=\"https://colab.research.google.com/assets/colab-badge.svg\" alt=\"Open In Colab\"/></a>"
      ]
    },
    {
      "cell_type": "code",
      "execution_count": 3,
      "metadata": {
        "colab": {
          "base_uri": "https://localhost:8080/"
        },
        "id": "Atm5LQoESrhc",
        "outputId": "cabad401-50f5-4d6d-bee5-e778023a96b1"
      },
      "outputs": [
        {
          "output_type": "stream",
          "name": "stdout",
          "text": [
            "Saisneha\n",
            "None\n"
          ]
        }
      ],
      "source": [
        "def name():\n",
        "  print(\"Saisneha\")\n",
        "a=name()\n",
        "print(a)"
      ]
    },
    {
      "cell_type": "code",
      "source": [
        "def adding(a,b):\n",
        "  return a+b\n",
        "add=adding(10,50)\n",
        "print(add)"
      ],
      "metadata": {
        "colab": {
          "base_uri": "https://localhost:8080/"
        },
        "id": "YwZBXryxWjop",
        "outputId": "e68780ff-ec84-4008-c422-03b063dd58d8"
      },
      "execution_count": 10,
      "outputs": [
        {
          "output_type": "stream",
          "name": "stdout",
          "text": [
            "60\n"
          ]
        }
      ]
    },
    {
      "cell_type": "code",
      "source": [
        "def multiply(a,b,c,d,e):\n",
        "  return a*b*c*d*e\n",
        "product=multiply(1,2,3,4,5)\n",
        "print(product)\n",
        "\n"
      ],
      "metadata": {
        "colab": {
          "base_uri": "https://localhost:8080/"
        },
        "id": "KevR84kxYvHc",
        "outputId": "29d7566a-af68-4430-992a-ca829592c7de"
      },
      "execution_count": 12,
      "outputs": [
        {
          "output_type": "stream",
          "name": "stdout",
          "text": [
            "120\n"
          ]
        }
      ]
    },
    {
      "cell_type": "code",
      "source": [
        "def factorial(n):\n",
        "  fact = 1\n",
        "  for i in range(1, n+1):\n",
        "    fact = fact*i\n",
        "  return fact\n",
        "b=factorial(10)\n",
        "c=factorial(15)\n",
        "print(b)\n",
        "print(c)\n"
      ],
      "metadata": {
        "colab": {
          "base_uri": "https://localhost:8080/"
        },
        "id": "W2nvxOxNabxp",
        "outputId": "7352242e-bd2b-455c-85f0-fbbd4c58cd73"
      },
      "execution_count": 36,
      "outputs": [
        {
          "output_type": "stream",
          "name": "stdout",
          "text": [
            "3628800\n",
            "1307674368000\n"
          ]
        }
      ]
    }
  ]
}