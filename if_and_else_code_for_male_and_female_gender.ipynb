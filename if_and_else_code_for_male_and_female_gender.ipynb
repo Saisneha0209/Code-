{
  "nbformat": 4,
  "nbformat_minor": 0,
  "metadata": {
    "colab": {
      "provenance": [],
      "authorship_tag": "ABX9TyPSbc1KzGLNXgNjrE+hU5Tu",
      "include_colab_link": true
    },
    "kernelspec": {
      "name": "python3",
      "display_name": "Python 3"
    },
    "language_info": {
      "name": "python"
    }
  },
  "cells": [
    {
      "cell_type": "markdown",
      "metadata": {
        "id": "view-in-github",
        "colab_type": "text"
      },
      "source": [
        "<a href=\"https://colab.research.google.com/github/Saisneha0209/Code-/blob/main/if_and_else_code_for_male_and_female_gender.ipynb\" target=\"_parent\"><img src=\"https://colab.research.google.com/assets/colab-badge.svg\" alt=\"Open In Colab\"/></a>"
      ]
    },
    {
      "cell_type": "code",
      "execution_count": 22,
      "metadata": {
        "id": "-xpxfaM1S7xm",
        "colab": {
          "base_uri": "https://localhost:8080/"
        },
        "outputId": "a26ff3ae-9778-4350-c1f5-9b7d269219b3"
      },
      "outputs": [
        {
          "output_type": "stream",
          "name": "stdout",
          "text": [
            "Enter your gender:female\n",
            "enter your age20\n",
            "assigned building is block2\n",
            "hotel assigned is HOTEL B\n"
          ]
        }
      ],
      "source": [
        "\n",
        "gender=input(\"Enter your gender:\")\n",
        "age = int(input(\"enter your age\"))\n",
        "if gender == \"male\" or gender == \"female\":\n",
        "  if gender == \"male\" :\n",
        "   print(\"assigned building is block1\")\n",
        "   if age >=20:\n",
        "    print(\"hotel assigned to this age group is HOTEL A\")\n",
        "   else:\n",
        "    print(\"hotel assigned is HOTEL B\")\n",
        "\n",
        "  else:\n",
        "   print(\"assigned building is block2\")\n",
        "  if age>=21:\n",
        "    print(\"hotel assigned to this age group is HOTEL A\")\n",
        "  else:\n",
        "    print(\"hotel assigned is HOTEL B\")\n",
        "\n",
        "else:\n",
        "  print(\"user has put invalid input,not defined\")\n"
      ]
    },
    {
      "cell_type": "code",
      "source": [
        "gender = input(\"enter the gender:\")\n",
        "if gender == \"male\" or  gender == \"female\":\n",
        " print(\"you have put valid input\")\n",
        "else:\n",
        "  print(\"you have put invalid input\")\n"
      ],
      "metadata": {
        "colab": {
          "base_uri": "https://localhost:8080/"
        },
        "id": "8FNWk3PEoq1f",
        "outputId": "fe46f4f0-ff11-4936-e9bf-c6587b069dd9"
      },
      "execution_count": 19,
      "outputs": [
        {
          "output_type": "stream",
          "name": "stdout",
          "text": [
            "enter the gender:afgh\n",
            "you have put invalid input\n"
          ]
        }
      ]
    }
  ]
}