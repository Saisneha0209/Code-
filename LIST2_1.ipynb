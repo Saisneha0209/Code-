{
  "nbformat": 4,
  "nbformat_minor": 0,
  "metadata": {
    "colab": {
      "provenance": [],
      "authorship_tag": "ABX9TyPvp/LsxBtsd+RB+7RFR26x",
      "include_colab_link": true
    },
    "kernelspec": {
      "name": "python3",
      "display_name": "Python 3"
    },
    "language_info": {
      "name": "python"
    }
  },
  "cells": [
    {
      "cell_type": "markdown",
      "metadata": {
        "id": "view-in-github",
        "colab_type": "text"
      },
      "source": [
        "<a href=\"https://colab.research.google.com/github/Saisneha0209/Code-/blob/main/LIST2_1.ipynb\" target=\"_parent\"><img src=\"https://colab.research.google.com/assets/colab-badge.svg\" alt=\"Open In Colab\"/></a>"
      ]
    },
    {
      "cell_type": "code",
      "execution_count": 2,
      "metadata": {
        "colab": {
          "base_uri": "https://localhost:8080/"
        },
        "id": "8DsZke0ugTkD",
        "outputId": "47044d21-9ba0-45c4-f629-929853d2961a"
      },
      "outputs": [
        {
          "output_type": "stream",
          "name": "stdout",
          "text": [
            "How many items do you want to enter? 4\n",
            "Enter item 1: Pizza\n",
            "Enter price for Pizza: 110\n",
            "Enter item 2: Burger\n",
            "Enter price for Burger: 90\n",
            "Enter item 3: Wrap\n",
            "Enter price for Wrap: 88\n",
            "Enter item 4: Pastry\n",
            "Enter price for Pastry: 45\n",
            "Items: ['Pizza', 'Burger', 'Wrap', 'Pastry']\n",
            "Prices: [110, 90, 88, 45]\n"
          ]
        }
      ],
      "source": [
        "# Empty lists\n",
        "items = []\n",
        "prices = []\n",
        "\n",
        "# Ask how many items\n",
        "n = int(input(\"How many items do you want to enter? \"))\n",
        "\n",
        "# Loop for items and prices\n",
        "for i in range(n):\n",
        "    item = input(f\"Enter item {i+1}: \")\n",
        "    price = int(input(f\"Enter price for {item}: \"))\n",
        "    items.append(item)\n",
        "    prices.append(price)\n",
        "\n",
        "# Display lists\n",
        "print(\"Items:\", items)\n",
        "print(\"Prices:\", prices)\n",
        "\n"
      ]
    },
    {
      "cell_type": "code",
      "metadata": {
        "colab": {
          "base_uri": "https://localhost:8080/"
        },
        "id": "e6409bef",
        "outputId": "1924d501-1650-4fa0-8018-192dc6e8578f"
      },
      "source": [
        "items = ['pizza', 'burger', 'pastry', 'cake', 'noodles']\n",
        "prices = [120, 90, 90, 80, 400]\n",
        "\n",
        "\n",
        "discount_rate = 0.10 # 10% discount\n",
        "\n",
        "discounted_prices = []\n",
        "total_bill = 0\n",
        "\n",
        "print(\"Applying 10% discount:\")\n",
        "for i in range(len(items)):\n",
        "  original_price = prices[i]\n",
        "  discount_amount = original_price * discount_rate\n",
        "  discounted_price = original_price - discount_amount\n",
        "  discounted_prices.append(discounted_price)\n",
        "  total_bill += discounted_price\n",
        "  print(f\"{items[i]}: Original Price - {original_price}, Discounted Price - {discounted_price:.2f}\")\n",
        "\n",
        "print(f\"\\nTotal Bill after 10% discount: {total_bill:.2f}\")"
      ],
      "execution_count": 1,
      "outputs": [
        {
          "output_type": "stream",
          "name": "stdout",
          "text": [
            "Applying 10% discount:\n",
            "pizza: Original Price - 120, Discounted Price - 108.00\n",
            "burger: Original Price - 90, Discounted Price - 81.00\n",
            "pastry: Original Price - 90, Discounted Price - 81.00\n",
            "cake: Original Price - 80, Discounted Price - 72.00\n",
            "noodles: Original Price - 400, Discounted Price - 360.00\n",
            "\n",
            "Total Bill after 10% discount: 702.00\n"
          ]
        }
      ]
    },
    {
      "cell_type": "code",
      "source": [],
      "metadata": {
        "id": "xlVk3yG7PDJL"
      },
      "execution_count": null,
      "outputs": []
    }
  ]
}