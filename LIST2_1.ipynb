{
  "nbformat": 4,
  "nbformat_minor": 0,
  "metadata": {
    "colab": {
      "provenance": [],
      "authorship_tag": "ABX9TyOwJt69HleDmALDVvTT3sS2",
      "include_colab_link": true
    },
    "kernelspec": {
      "name": "python3",
      "display_name": "Python 3"
    },
    "language_info": {
      "name": "python"
    }
  },
  "cells": [
    {
      "cell_type": "markdown",
      "metadata": {
        "id": "view-in-github",
        "colab_type": "text"
      },
      "source": [
        "<a href=\"https://colab.research.google.com/github/Saisneha0209/Code-/blob/main/LIST2_1.ipynb\" target=\"_parent\"><img src=\"https://colab.research.google.com/assets/colab-badge.svg\" alt=\"Open In Colab\"/></a>"
      ]
    },
    {
      "cell_type": "code",
      "execution_count": 4,
      "metadata": {
        "colab": {
          "base_uri": "https://localhost:8080/"
        },
        "id": "8DsZke0ugTkD",
        "outputId": "572c49a4-2972-44ac-d3a3-2de8244dea54"
      },
      "outputs": [
        {
          "output_type": "stream",
          "name": "stdout",
          "text": [
            "enter item 1: pizza\n",
            "enter price for pizza: 120\n",
            "enter item 2: burger\n",
            "enter price for burger: 90\n",
            "enter item 3: pastry\n",
            "enter price for pastry: 90\n",
            "enter item 4: cake\n",
            "enter price for cake: 80\n",
            "enter item 5: noodles\n",
            "enter price for noodles: 400\n",
            "Items: ['pizza', 'burger', 'pastry', 'cake', 'noodles']\n",
            "Prices: [120, 90, 90, 80, 400]\n"
          ]
        }
      ],
      "source": [
        "n=5\n",
        "items=[\"pizza\",\"burger\",\"ice cream\",\"pastry\",\"cake\"]\n",
        "price=[\"120\",\"90\",\"50\",\"80\",\"250\"]\n",
        "for i in range (5):\n",
        "  items=input(\"enter your item\")\n",
        "  items.append(items)\n",
        "price=int(input(\"enter your price\"))\n",
        "price.append(price)\n",
        ""
      ]
    },
    {
      "cell_type": "markdown",
      "source": [
        "#Q. Add discount and total bill to this.\n",
        "#Make one more code to solve this problem.\n",
        "\n",
        "\n"
      ],
      "metadata": {
        "id": "Zcgi4XFVkUnc"
      }
    }
  ]
}