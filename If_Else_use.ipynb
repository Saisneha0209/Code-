{
  "nbformat": 4,
  "nbformat_minor": 0,
  "metadata": {
    "colab": {
      "provenance": [],
      "authorship_tag": "ABX9TyNh05OKOMzdpFK93rs9daKV",
      "include_colab_link": true
    },
    "kernelspec": {
      "name": "python3",
      "display_name": "Python 3"
    },
    "language_info": {
      "name": "python"
    }
  },
  "cells": [
    {
      "cell_type": "markdown",
      "metadata": {
        "id": "view-in-github",
        "colab_type": "text"
      },
      "source": [
        "<a href=\"https://colab.research.google.com/github/Saisneha0209/Code-/blob/main/If_Else_use.ipynb\" target=\"_parent\"><img src=\"https://colab.research.google.com/assets/colab-badge.svg\" alt=\"Open In Colab\"/></a>"
      ]
    },
    {
      "cell_type": "code",
      "execution_count": 6,
      "metadata": {
        "colab": {
          "base_uri": "https://localhost:8080/"
        },
        "id": "9ryM4TrWVm8o",
        "outputId": "0a5ef5c7-86e2-49c2-a8e8-9fc63181f3d3"
      },
      "outputs": [
        {
          "output_type": "stream",
          "name": "stdout",
          "text": [
            "enter the daymonday\n",
            "Non weekend day\n"
          ]
        }
      ],
      "source": [
        "weekend_day=\"Sunday\"\n",
        "weekend_day=\"Saturday\"\n",
        "day=input(\"enter the day\")\n",
        "if day == \"monday\":\n",
        " print(\"Non weekend day\")\n",
        "elif day==\"tuesday\":\n",
        " print(\"Non weekend day\")\n",
        "elif day==\"wednesday\":\n",
        " print(\"Non weekend day\")\n",
        "elif day==\"thursday\":\n",
        " print(\"Non weekend day\")\n",
        "elif day==\"friday\":\n",
        " print(\"Non weekend day\")\n",
        "else :\n",
        "  print(\"weekend day\")\n"
      ]
    }
  ]
}