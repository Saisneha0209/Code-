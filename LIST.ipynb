{
  "nbformat": 4,
  "nbformat_minor": 0,
  "metadata": {
    "colab": {
      "provenance": [],
      "authorship_tag": "ABX9TyM4gUPBdUSWlBkVMYzA1gu2",
      "include_colab_link": true
    },
    "kernelspec": {
      "name": "python3",
      "display_name": "Python 3"
    },
    "language_info": {
      "name": "python"
    }
  },
  "cells": [
    {
      "cell_type": "markdown",
      "metadata": {
        "id": "view-in-github",
        "colab_type": "text"
      },
      "source": [
        "<a href=\"https://colab.research.google.com/github/Saisneha0209/Code-/blob/main/LIST.ipynb\" target=\"_parent\"><img src=\"https://colab.research.google.com/assets/colab-badge.svg\" alt=\"Open In Colab\"/></a>"
      ]
    },
    {
      "cell_type": "markdown",
      "source": [
        "#ADVANCE#DATA STRUCTURE\n",
        "LINKED LIST\n",
        "STACK\n",
        "QUEUE\n",
        "TREE\n",
        "GRAPLS\n",
        "TRIES\n",
        "ALGORITHMS"
      ],
      "metadata": {
        "id": "vpB4WqXoEuc0"
      }
    },
    {
      "cell_type": "code",
      "source": [
        "#list\n",
        "a=[1,2,3,4,5,6,7,8,9,10]\n",
        "print(a)"
      ],
      "metadata": {
        "colab": {
          "base_uri": "https://localhost:8080/"
        },
        "id": "yw6EVsyyKsqh",
        "outputId": "509b1a08-e185-4343-94bf-b00b2d094d27"
      },
      "execution_count": 8,
      "outputs": [
        {
          "output_type": "stream",
          "name": "stdout",
          "text": [
            "[1, 2, 3, 4, 5, 6, 7, 8, 9, 10]\n"
          ]
        }
      ]
    },
    {
      "cell_type": "code",
      "source": [
        "city=[\"Chandigarh\",\"Delhi\",\"Bhubuneswar\",\"Guwahti\"]\n",
        "print(city)"
      ],
      "metadata": {
        "colab": {
          "base_uri": "https://localhost:8080/"
        },
        "id": "Vqn-C-kALg2V",
        "outputId": "216b8833-ef12-4070-cdfe-178a5dc9f8fa"
      },
      "execution_count": 5,
      "outputs": [
        {
          "output_type": "stream",
          "name": "stdout",
          "text": [
            "['Chandigarh', 'Delhi', 'Bhubuneswar', 'Guwahti']\n"
          ]
        }
      ]
    },
    {
      "cell_type": "code",
      "source": [
        "#slicing\n",
        "a=[1,2,30,50]\n",
        "print(a[0])\n",
        "print(a[0:5])"
      ],
      "metadata": {
        "colab": {
          "base_uri": "https://localhost:8080/"
        },
        "id": "YjZHJgWtL2VT",
        "outputId": "3caaaafd-7709-409a-e4ef-0dc19dc08a1c"
      },
      "execution_count": 12,
      "outputs": [
        {
          "output_type": "stream",
          "name": "stdout",
          "text": [
            "1\n",
            "[1, 2, 30, 50]\n"
          ]
        }
      ]
    },
    {
      "cell_type": "code",
      "source": [
        "a=[1,2,3,4,5,]\n",
        "for i in a:\n",
        "  print(i)"
      ],
      "metadata": {
        "colab": {
          "base_uri": "https://localhost:8080/"
        },
        "id": "womyMk3LMX7I",
        "outputId": "940879aa-8e72-4c35-ade7-c5a60eb30900"
      },
      "execution_count": 13,
      "outputs": [
        {
          "output_type": "stream",
          "name": "stdout",
          "text": [
            "1\n",
            "2\n",
            "3\n",
            "4\n",
            "5\n"
          ]
        }
      ]
    },
    {
      "cell_type": "code",
      "source": [
        "a=[1,2,3,4,5,]#for different elements\n",
        "for i in a:\n",
        "  print(i)\n"
      ],
      "metadata": {
        "colab": {
          "base_uri": "https://localhost:8080/"
        },
        "id": "rUpxWMcxNWRD",
        "outputId": "976e43f8-04de-4258-a935-5b601dae2420"
      },
      "execution_count": 16,
      "outputs": [
        {
          "output_type": "stream",
          "name": "stdout",
          "text": [
            "1\n",
            "2\n",
            "3\n",
            "4\n",
            "5\n"
          ]
        }
      ]
    },
    {
      "cell_type": "code",
      "source": [],
      "metadata": {
        "id": "mTO4qPRIRRK4"
      },
      "execution_count": null,
      "outputs": []
    },
    {
      "cell_type": "code",
      "source": [
        "item=[]\n",
        "n=int(input(\"enter the number\"))\n",
        "for i in range(4):\n",
        "  a=input(\"enter the name\")\n",
        "  item.append(a)\n",
        "print(item)\n",
        "\n"
      ],
      "metadata": {
        "colab": {
          "base_uri": "https://localhost:8080/"
        },
        "id": "vyIhiVtQNinC",
        "outputId": "7bd0b0a0-04a7-4aba-a23f-079361d8546f"
      },
      "execution_count": 22,
      "outputs": [
        {
          "output_type": "stream",
          "name": "stdout",
          "text": [
            "enter the number1\n",
            "enter the nameODISHA\n",
            "enter the namePUNJAB\n",
            "enter the nameKOLKATA\n",
            "enter the nameTHIRUVANTHAMPURAM\n",
            "['ODISHA', 'PUNJAB', 'KOLKATA', 'THIRUVANTHAMPURAM']\n"
          ]
        }
      ]
    },
    {
      "cell_type": "code",
      "source": [
        "item=[]\n",
        "n=int(input(\"enter the number\"))\n",
        "for i in range(5):\n",
        "  a=input(\"enter the name\")\n",
        "  item.append(a)\n",
        "print(item)"
      ],
      "metadata": {
        "colab": {
          "base_uri": "https://localhost:8080/"
        },
        "id": "rKDsO77eQ8Fm",
        "outputId": "434d4b1f-7908-4fdf-b15b-71f2f48afa82"
      },
      "execution_count": 24,
      "outputs": [
        {
          "output_type": "stream",
          "name": "stdout",
          "text": [
            "enter the number2\n",
            "enter the nameCS\n",
            "enter the nameMATHS\n",
            "enter the nameENGLISH\n",
            "enter the namePHYISCS\n",
            "enter the nameCHEMISTRY\n",
            "['CS', 'MATHS', 'ENGLISH', 'PHYISCS', 'CHEMISTRY']\n"
          ]
        }
      ]
    },
    {
      "cell_type": "code",
      "source": [
        "print(\"*\"*2)#pattern finding"
      ],
      "metadata": {
        "colab": {
          "base_uri": "https://localhost:8080/"
        },
        "id": "8VfBK_6pSKAR",
        "outputId": "a813bfd8-970d-4d1a-b6db-e054f607b50e"
      },
      "execution_count": 26,
      "outputs": [
        {
          "output_type": "stream",
          "name": "stdout",
          "text": [
            "**\n"
          ]
        }
      ]
    },
    {
      "cell_type": "code",
      "source": [
        "print(\"*\"*1)\n",
        "print(\"*\"*2)\n",
        "print(\"*\"*3)\n",
        "print(\"*\"*4)\n",
        "print(\"*\"*5)\n",
        "print(\"*\"*6)\n"
      ],
      "metadata": {
        "colab": {
          "base_uri": "https://localhost:8080/"
        },
        "id": "xo9jhAoDSxXV",
        "outputId": "93684c20-e014-4dd0-8e09-1d7e967da750"
      },
      "execution_count": 27,
      "outputs": [
        {
          "output_type": "stream",
          "name": "stdout",
          "text": [
            "*\n",
            "**\n",
            "***\n",
            "****\n",
            "*****\n",
            "******\n"
          ]
        }
      ]
    },
    {
      "cell_type": "code",
      "source": [
        "elements=[\"H\",\"He\",\"Li\",\"Be\",\"B\",\"C\",\"N\",\"O\",\"F\",\"N\",\"Na\",\"Mg\",\"AL\",\"S\",\"P\",\"Si\",\"C\",\"Ar\",\"K\",\"Ca\"]\n",
        "for i in elements:\n",
        "  print(i)"
      ],
      "metadata": {
        "colab": {
          "base_uri": "https://localhost:8080/"
        },
        "id": "vwaWG_f6Uyil",
        "outputId": "fa3eb55f-1df7-4c87-ef57-665a5f05eeb4"
      },
      "execution_count": 42,
      "outputs": [
        {
          "output_type": "stream",
          "name": "stdout",
          "text": [
            "H\n",
            "He\n",
            "Li\n",
            "Be\n",
            "B\n",
            "C\n",
            "N\n",
            "O\n",
            "F\n",
            "N\n",
            "Na\n",
            "Mg\n",
            "AL\n",
            "S\n",
            "P\n",
            "Si\n",
            "C\n",
            "Ar\n",
            "K\n",
            "Ca\n"
          ]
        }
      ]
    }
  ]
}