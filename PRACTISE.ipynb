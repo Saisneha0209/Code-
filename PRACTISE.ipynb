{
  "nbformat": 4,
  "nbformat_minor": 0,
  "metadata": {
    "colab": {
      "provenance": [],
      "authorship_tag": "ABX9TyNwz3s/Hvr5tmrfWiTofnQX",
      "include_colab_link": true
    },
    "kernelspec": {
      "name": "python3",
      "display_name": "Python 3"
    },
    "language_info": {
      "name": "python"
    }
  },
  "cells": [
    {
      "cell_type": "markdown",
      "metadata": {
        "id": "view-in-github",
        "colab_type": "text"
      },
      "source": [
        "<a href=\"https://colab.research.google.com/github/Saisneha0209/Code-/blob/main/PRACTISE.ipynb\" target=\"_parent\"><img src=\"https://colab.research.google.com/assets/colab-badge.svg\" alt=\"Open In Colab\"/></a>"
      ]
    },
    {
      "cell_type": "markdown",
      "source": [
        "#VARIABLES AND DATA TYPES\n"
      ],
      "metadata": {
        "id": "K468eKAfPuDA"
      }
    },
    {
      "cell_type": "code",
      "source": [
        "#ANOTHER METHOD OF USING THIS FOR SPECIAL CHARACTERS\n",
        "a,b=2,3\n",
        "txt=\"@\"\n",
        "print(2*txt*3)"
      ],
      "metadata": {
        "colab": {
          "base_uri": "https://localhost:8080/"
        },
        "id": "cuHPCsQaEWuf",
        "outputId": "a8a231d4-f1e5-4153-86a9-8fffaaf739b0"
      },
      "execution_count": 4,
      "outputs": [
        {
          "output_type": "stream",
          "name": "stdout",
          "text": [
            "@@@@@@\n"
          ]
        }
      ]
    },
    {
      "cell_type": "code",
      "source": [
        "#SAME AS ABOVE\n",
        "a,b=\"2\",3\n",
        "txt=\"$\"\n",
        "print((a+txt)*b)\n"
      ],
      "metadata": {
        "colab": {
          "base_uri": "https://localhost:8080/"
        },
        "id": "4S5TIsPNFPGW",
        "outputId": "3885949c-3183-4ece-b859-24bd48eb680e"
      },
      "execution_count": 5,
      "outputs": [
        {
          "output_type": "stream",
          "name": "stdout",
          "text": [
            "2$2$2$\n"
          ]
        }
      ]
    },
    {
      "cell_type": "code",
      "source": [
        "#CODE FOR TRAFFIC LIGHT\n",
        "light=input(\"light:\")\n",
        "if(light==\"red\"):\n",
        "  print(\"stop\")\n",
        "elif(light==\"green\"):\n",
        "  print(\"go\")\n",
        "elif(light==\"yellow\"):\n",
        "  print(\"watch out\")\n",
        "else:\n",
        "  print(\"LIGHT IS BROKEN\")"
      ],
      "metadata": {
        "colab": {
          "base_uri": "https://localhost:8080/"
        },
        "id": "KJeZeASxFhzA",
        "outputId": "4483e209-4bc9-4958-e5ab-92ab7aaec110"
      },
      "execution_count": 8,
      "outputs": [
        {
          "output_type": "stream",
          "name": "stdout",
          "text": [
            "light:green\n",
            "go\n"
          ]
        }
      ]
    },
    {
      "cell_type": "code",
      "source": [
        "#BY USING IF-ELIF-ELSE FOR GRADE\n",
        "marks = int(input(\"marks:\"))\n",
        "if(marks >= 90):\n",
        "  print(\"A\")\n",
        "elif(marks >= 80 and marks < 90):\n",
        "  print(\"B\")\n",
        "elif(marks >= 70 and marks < 80):\n",
        "  print(\"c\")\n",
        "else:\n",
        "  print(\"D\")"
      ],
      "metadata": {
        "colab": {
          "base_uri": "https://localhost:8080/"
        },
        "id": "XTGmwfGJHxBO",
        "outputId": "55877c4a-b038-4ca7-e629-10ea6a6f4f1b"
      },
      "execution_count": 13,
      "outputs": [
        {
          "output_type": "stream",
          "name": "stdout",
          "text": [
            "marks:90\n",
            "A\n"
          ]
        }
      ]
    },
    {
      "cell_type": "code",
      "source": [
        "#CALCULATIN SIMPLE INTEREST\n",
        "P=float(input(\"P:\"))\n",
        "R=float(input(\"R:\"))\n",
        "T=float(input(\"T:\"))\n",
        "SI=(P*R*T)/100\n",
        "print(SI)"
      ],
      "metadata": {
        "colab": {
          "base_uri": "https://localhost:8080/"
        },
        "id": "qEGpmByWLBIB",
        "outputId": "f779b2e2-f4c2-4163-c8c3-a79cf421f80c"
      },
      "execution_count": 14,
      "outputs": [
        {
          "output_type": "stream",
          "name": "stdout",
          "text": [
            "P:1500\n",
            "R:120\n",
            "T:14\n",
            "25200.0\n"
          ]
        }
      ]
    },
    {
      "cell_type": "code",
      "source": [
        "a=int(input(\"Enter first number\"))\n",
        "b=int(input(\"Enter second number\"))\n",
        "sum=a+b\n",
        "print(\"SUM OF A and B is:\",sum)"
      ],
      "metadata": {
        "colab": {
          "base_uri": "https://localhost:8080/"
        },
        "id": "dROkQAQRLuAd",
        "outputId": "9d157665-8979-4960-b9ce-4a5282327d2f"
      },
      "execution_count": 15,
      "outputs": [
        {
          "output_type": "stream",
          "name": "stdout",
          "text": [
            "Enter first number54\n",
            "Enter second number98\n",
            "SUM OF A and B is: 152\n"
          ]
        }
      ]
    },
    {
      "cell_type": "code",
      "source": [
        "#AREA OF THE SQUARE USING ITS FORMULA\n",
        "side=int(input(\"Enter the value of the side of square\"))\n",
        "area=side*side\n",
        "print(\"Area of the square is:\",area)"
      ],
      "metadata": {
        "colab": {
          "base_uri": "https://localhost:8080/"
        },
        "id": "EFdVtp9kNEHn",
        "outputId": "1d40bc84-f61b-4989-d8a4-fc2f07f06087"
      },
      "execution_count": 16,
      "outputs": [
        {
          "output_type": "stream",
          "name": "stdout",
          "text": [
            "Enter the value of the side of square5\n",
            "Area of the square is: 25\n"
          ]
        }
      ]
    },
    {
      "cell_type": "code",
      "source": [
        "#FINDING THE AVERAGE OF TWO NUMBERS\n",
        "first=float(input(\"ENTER THE FIRST FLOATING NUMBER\"))\n",
        "second=float(input(\"ENTER THE SECOND FLOATING NUMBER\"))\n",
        "average=(first+second)/2\n",
        "print(\"The average of first and second number is:\",average)"
      ],
      "metadata": {
        "colab": {
          "base_uri": "https://localhost:8080/"
        },
        "id": "bkSySL44NeIA",
        "outputId": "8df37b98-9e3c-4217-9f65-7539750430d6"
      },
      "execution_count": 17,
      "outputs": [
        {
          "output_type": "stream",
          "name": "stdout",
          "text": [
            "ENTER THE FIRST FLOATING NUMBER25.5\n",
            "ENTER THE SECOND FLOATING NUMBER30.5\n",
            "The average of first and second number is: 28.0\n"
          ]
        }
      ]
    },
    {
      "cell_type": "code",
      "source": [
        "#BY USING IF-ELSE CONDITION\n",
        "a=int(input(\"ENTER FIRST NUMBER\"))\n",
        "b=int(input(\"ENTER SECOND NUMBER\"))\n",
        "if a >= b:\n",
        "  print(\"TRUE\")\n",
        "else:\n",
        "  print(\"FALSE\")"
      ],
      "metadata": {
        "colab": {
          "base_uri": "https://localhost:8080/"
        },
        "id": "BPrK7Tp0OByR",
        "outputId": "1a095fee-4474-4ac2-f610-ebdb20a9e1b8"
      },
      "execution_count": 18,
      "outputs": [
        {
          "output_type": "stream",
          "name": "stdout",
          "text": [
            "ENTER FIRST NUMBER54\n",
            "ENTER SECOND NUMBER98\n",
            "FALSE\n"
          ]
        }
      ]
    },
    {
      "cell_type": "markdown",
      "source": [
        "#STRINGS AND CONDITIONAL STATEMENTS\n"
      ],
      "metadata": {
        "id": "EU0-dp08PnDv"
      }
    },
    {
      "cell_type": "code",
      "source": [
        "str1=\"This is a string.\\nWe are good at maths.\"#Here backslash(\\)n is used so that the second must come to second line while getting the output.\n",
        "print(str1)"
      ],
      "metadata": {
        "colab": {
          "base_uri": "https://localhost:8080/"
        },
        "id": "Epzua3uvOqH9",
        "outputId": "29b4915f-049a-4b25-f382-0cf7bf030890"
      },
      "execution_count": 20,
      "outputs": [
        {
          "output_type": "stream",
          "name": "stdout",
          "text": [
            "This is a string.\n",
            "We are good at maths.\n"
          ]
        }
      ]
    },
    {
      "cell_type": "code",
      "source": [
        "a=\"hello\" + \"world\"#This is basic operation called concatenation\n",
        "print(\"A here is\",a)"
      ],
      "metadata": {
        "colab": {
          "base_uri": "https://localhost:8080/"
        },
        "id": "964SDJohQxkX",
        "outputId": "0fcc8068-7b02-4176-c007-2c0476d5d083"
      },
      "execution_count": 21,
      "outputs": [
        {
          "output_type": "stream",
          "name": "stdout",
          "text": [
            "A here is helloworld\n"
          ]
        }
      ]
    },
    {
      "cell_type": "markdown",
      "source": [
        "OR\n"
      ],
      "metadata": {
        "id": "GezoFHx3RK4w"
      }
    },
    {
      "cell_type": "code",
      "source": [
        "a=\"HELLO\"\n",
        "b=\"WORLD\"\n",
        "print(a+b)"
      ],
      "metadata": {
        "colab": {
          "base_uri": "https://localhost:8080/"
        },
        "id": "6r-Bp4Q9RF_k",
        "outputId": "c855caae-4f66-470d-f3fb-3e4f1402fe11"
      },
      "execution_count": 22,
      "outputs": [
        {
          "output_type": "stream",
          "name": "stdout",
          "text": [
            "HELLOWORLD\n"
          ]
        }
      ]
    },
    {
      "cell_type": "code",
      "source": [
        "#LENGTH OF THE STR(STRING)\n",
        "a=\"HELLO\"\n",
        "print(len(a))\n",
        "b=\"WORLD\"\n",
        "print(len(b))\n",
        "print(a+b)"
      ],
      "metadata": {
        "colab": {
          "base_uri": "https://localhost:8080/"
        },
        "id": "F8pwCjQWRSlK",
        "outputId": "5b8dbae7-dd41-4444-a60d-f40c769b7552"
      },
      "execution_count": 23,
      "outputs": [
        {
          "output_type": "stream",
          "name": "stdout",
          "text": [
            "5\n",
            "5\n",
            "HELLOWORLD\n"
          ]
        }
      ]
    },
    {
      "cell_type": "code",
      "source": [
        "#INDEXING\n",
        "#It means when a string is created internally all the characters always get a string.\n",
        "#SAISNEHA\n",
        "#01234567\n",
        "#SO string[0] is S,string[1] is A and so on.....#Here we use square brackets.\n",
        "str=\"SAISNEHA\"\n",
        "ch=str[1]\n",
        "print(ch)"
      ],
      "metadata": {
        "colab": {
          "base_uri": "https://localhost:8080/"
        },
        "id": "irgnXXq0R3Z1",
        "outputId": "22a2b3f1-c30c-41c2-dc2b-1630c64bc8e0"
      },
      "execution_count": 25,
      "outputs": [
        {
          "output_type": "stream",
          "name": "stdout",
          "text": [
            "A\n"
          ]
        }
      ]
    },
    {
      "cell_type": "code",
      "source": [
        "number=int(input(\"enter the number\"))#If reminder gives zero then it is an even number otherwise odd\n",
        "rem=number%2\n",
        "if rem==0:\n",
        "  print(\"EVEN\")\n",
        "else:\n",
        "  print(\"ODD\")"
      ],
      "metadata": {
        "colab": {
          "base_uri": "https://localhost:8080/"
        },
        "id": "mkweb9BdSkR2",
        "outputId": "f6dc5d54-27c4-4060-b81d-e1ee3d6d4f72"
      },
      "execution_count": 26,
      "outputs": [
        {
          "output_type": "stream",
          "name": "stdout",
          "text": [
            "enter the number29\n",
            "ODD\n"
          ]
        }
      ]
    },
    {
      "cell_type": "code",
      "source": [
        "a=int(input(\"ENTER THE FIRST NUMBER\"))#Here we are finding the largest number among these three\n",
        "b=int(input(\"ENTER THE SECOND NUMBER\"))\n",
        "c=int(input(\"ENTER THE THIRD NUMBER\"))\n",
        "if a>b and a>c:\n",
        "  print(\"FIRST NUMBER IS LARGEST\",a)\n",
        "elif b>=c:\n",
        "  print(\"SECOND NUMBER IS THE LARGEST\",b)\n",
        "else:\n",
        "  print(\"THIRD IS LARGEST\")\n",
        "\n"
      ],
      "metadata": {
        "colab": {
          "base_uri": "https://localhost:8080/"
        },
        "id": "UIK8WbumTpcN",
        "outputId": "afb638c2-3c46-4464-ae42-d3383c8fefef"
      },
      "execution_count": 30,
      "outputs": [
        {
          "output_type": "stream",
          "name": "stdout",
          "text": [
            "ENTER THE FIRST NUMBER7\n",
            "ENTER THE SECOND NUMBER5\n",
            "ENTER THE THIRD NUMBER1\n",
            "FIRST NUMBER IS LARGEST 7\n"
          ]
        }
      ]
    },
    {
      "cell_type": "code",
      "source": [
        "num=int(input(\"ENTER THE NUMBER\"))#TO CHECK WHETHER THE FOLLOWING NUM IS A MULTIPLE OF 7 OR NOT\n",
        "if num%7 == 0:\n",
        "  print(\"It is the multiple of 7\")\n",
        "else:\n",
        "  print(\"It is not a multiple of 7\")"
      ],
      "metadata": {
        "colab": {
          "base_uri": "https://localhost:8080/"
        },
        "id": "hQxN9xkuU830",
        "outputId": "db161f87-5ff8-4c59-fc9e-26d4ce19a2ca"
      },
      "execution_count": 37,
      "outputs": [
        {
          "output_type": "stream",
          "name": "stdout",
          "text": [
            "ENTER THE NUMBER20\n",
            "It is not a multiple of 7\n"
          ]
        }
      ]
    },
    {
      "cell_type": "markdown",
      "source": [
        "#LOOPS(FOR OR WHILE)\n"
      ],
      "metadata": {
        "id": "baR0pWBAbjqj"
      }
    },
    {
      "cell_type": "code",
      "source": [
        "for i in range (1,6):\n",
        "  print(\"HELLO\")\n"
      ],
      "metadata": {
        "colab": {
          "base_uri": "https://localhost:8080/"
        },
        "id": "F6ZLQ_FcbbBF",
        "outputId": "8d13eb7f-527c-469a-e530-da03bbca0472"
      },
      "execution_count": 39,
      "outputs": [
        {
          "output_type": "stream",
          "name": "stdout",
          "text": [
            "HELLO\n",
            "HELLO\n",
            "HELLO\n",
            "HELLO\n",
            "HELLO\n"
          ]
        }
      ]
    },
    {
      "cell_type": "code",
      "source": [
        "count=1#Here the count can be considered as variables and known as ITERATOR for eg.i,j,k etc.....,and to put them in loop is known as ITERATION.\n",
        "while count <= 5:\n",
        "  print(\"HELLO\")\n",
        "  count +=1\n",
        "\n",
        "print(count)"
      ],
      "metadata": {
        "colab": {
          "base_uri": "https://localhost:8080/"
        },
        "id": "FZHviFprdbXG",
        "outputId": "2ad65d22-362d-46ad-826e-eda2225cba87"
      },
      "execution_count": 42,
      "outputs": [
        {
          "output_type": "stream",
          "name": "stdout",
          "text": [
            "HELLO\n",
            "HELLO\n",
            "HELLO\n",
            "HELLO\n",
            "HELLO\n",
            "6\n"
          ]
        }
      ]
    },
    {
      "cell_type": "code",
      "source": [
        "i=1#Printing one word so many times we use loop\n",
        "while i <= 5:\n",
        "  print(\"SAISNEHA\")\n",
        "  i+=1"
      ],
      "metadata": {
        "colab": {
          "base_uri": "https://localhost:8080/"
        },
        "id": "UEXxIp5ZeNuj",
        "outputId": "1d185fc0-cc37-4e1a-f0e0-d217d8ce47c7"
      },
      "execution_count": 45,
      "outputs": [
        {
          "output_type": "stream",
          "name": "stdout",
          "text": [
            "SAISNEHA\n",
            "SAISNEHA\n",
            "SAISNEHA\n",
            "SAISNEHA\n",
            "SAISNEHA\n"
          ]
        }
      ]
    },
    {
      "cell_type": "code",
      "source": [
        "i=1#We want counting from 1 to 5\n",
        "while i<= 5:\n",
        "  print(i)\n",
        "  i+=1\n",
        "print(\"LOOP ENDED\")"
      ],
      "metadata": {
        "colab": {
          "base_uri": "https://localhost:8080/"
        },
        "id": "j4Ec2EumkH3P",
        "outputId": "752b8e16-18ec-475c-d1ae-838442282a40"
      },
      "execution_count": 47,
      "outputs": [
        {
          "output_type": "stream",
          "name": "stdout",
          "text": [
            "1\n",
            "2\n",
            "3\n",
            "4\n",
            "5\n",
            "LOOP ENDED\n"
          ]
        }
      ]
    },
    {
      "cell_type": "code",
      "source": [
        "i=5#REVERSED\n",
        "while i>=1:\n",
        "  print(i)\n",
        "  i-=1"
      ],
      "metadata": {
        "colab": {
          "base_uri": "https://localhost:8080/"
        },
        "id": "YwyC3MgCkl-p",
        "outputId": "0e87f27a-2fb8-4e19-cacc-754f3f92f006"
      },
      "execution_count": 49,
      "outputs": [
        {
          "output_type": "stream",
          "name": "stdout",
          "text": [
            "5\n",
            "4\n",
            "3\n",
            "2\n",
            "1\n"
          ]
        }
      ]
    },
    {
      "cell_type": "code",
      "source": [
        "i=1\n",
        "while i<= 100:\n",
        "  print(i)\n",
        "  i+=1"
      ],
      "metadata": {
        "colab": {
          "base_uri": "https://localhost:8080/"
        },
        "id": "oKlksVoXk2zv",
        "outputId": "6442493b-5135-41d0-f019-65daf48d8240"
      },
      "execution_count": 50,
      "outputs": [
        {
          "output_type": "stream",
          "name": "stdout",
          "text": [
            "1\n",
            "2\n",
            "3\n",
            "4\n",
            "5\n",
            "6\n",
            "7\n",
            "8\n",
            "9\n",
            "10\n",
            "11\n",
            "12\n",
            "13\n",
            "14\n",
            "15\n",
            "16\n",
            "17\n",
            "18\n",
            "19\n",
            "20\n",
            "21\n",
            "22\n",
            "23\n",
            "24\n",
            "25\n",
            "26\n",
            "27\n",
            "28\n",
            "29\n",
            "30\n",
            "31\n",
            "32\n",
            "33\n",
            "34\n",
            "35\n",
            "36\n",
            "37\n",
            "38\n",
            "39\n",
            "40\n",
            "41\n",
            "42\n",
            "43\n",
            "44\n",
            "45\n",
            "46\n",
            "47\n",
            "48\n",
            "49\n",
            "50\n",
            "51\n",
            "52\n",
            "53\n",
            "54\n",
            "55\n",
            "56\n",
            "57\n",
            "58\n",
            "59\n",
            "60\n",
            "61\n",
            "62\n",
            "63\n",
            "64\n",
            "65\n",
            "66\n",
            "67\n",
            "68\n",
            "69\n",
            "70\n",
            "71\n",
            "72\n",
            "73\n",
            "74\n",
            "75\n",
            "76\n",
            "77\n",
            "78\n",
            "79\n",
            "80\n",
            "81\n",
            "82\n",
            "83\n",
            "84\n",
            "85\n",
            "86\n",
            "87\n",
            "88\n",
            "89\n",
            "90\n",
            "91\n",
            "92\n",
            "93\n",
            "94\n",
            "95\n",
            "96\n",
            "97\n",
            "98\n",
            "99\n",
            "100\n"
          ]
        }
      ]
    },
    {
      "cell_type": "code",
      "source": [
        "i=100\n",
        "while i>=1:\n",
        "  print(i)\n",
        "  i-=1"
      ],
      "metadata": {
        "colab": {
          "base_uri": "https://localhost:8080/"
        },
        "id": "zgtkNS3RlSvZ",
        "outputId": "67d5d614-871f-4736-cdc5-1ebd24956d6e"
      },
      "execution_count": 51,
      "outputs": [
        {
          "output_type": "stream",
          "name": "stdout",
          "text": [
            "100\n",
            "99\n",
            "98\n",
            "97\n",
            "96\n",
            "95\n",
            "94\n",
            "93\n",
            "92\n",
            "91\n",
            "90\n",
            "89\n",
            "88\n",
            "87\n",
            "86\n",
            "85\n",
            "84\n",
            "83\n",
            "82\n",
            "81\n",
            "80\n",
            "79\n",
            "78\n",
            "77\n",
            "76\n",
            "75\n",
            "74\n",
            "73\n",
            "72\n",
            "71\n",
            "70\n",
            "69\n",
            "68\n",
            "67\n",
            "66\n",
            "65\n",
            "64\n",
            "63\n",
            "62\n",
            "61\n",
            "60\n",
            "59\n",
            "58\n",
            "57\n",
            "56\n",
            "55\n",
            "54\n",
            "53\n",
            "52\n",
            "51\n",
            "50\n",
            "49\n",
            "48\n",
            "47\n",
            "46\n",
            "45\n",
            "44\n",
            "43\n",
            "42\n",
            "41\n",
            "40\n",
            "39\n",
            "38\n",
            "37\n",
            "36\n",
            "35\n",
            "34\n",
            "33\n",
            "32\n",
            "31\n",
            "30\n",
            "29\n",
            "28\n",
            "27\n",
            "26\n",
            "25\n",
            "24\n",
            "23\n",
            "22\n",
            "21\n",
            "20\n",
            "19\n",
            "18\n",
            "17\n",
            "16\n",
            "15\n",
            "14\n",
            "13\n",
            "12\n",
            "11\n",
            "10\n",
            "9\n",
            "8\n",
            "7\n",
            "6\n",
            "5\n",
            "4\n",
            "3\n",
            "2\n",
            "1\n"
          ]
        }
      ]
    },
    {
      "cell_type": "code",
      "source": [
        "i=1#Multiplying any N number\n",
        "while i<=10:\n",
        "  print(3*i)\n",
        "  i+=1"
      ],
      "metadata": {
        "colab": {
          "base_uri": "https://localhost:8080/"
        },
        "id": "omEsS7JWlffX",
        "outputId": "a3e803b3-ed87-4b7a-c425-02fbe50c11fd"
      },
      "execution_count": 53,
      "outputs": [
        {
          "output_type": "stream",
          "name": "stdout",
          "text": [
            "3\n",
            "6\n",
            "9\n",
            "12\n",
            "15\n",
            "18\n",
            "21\n",
            "24\n",
            "27\n",
            "30\n"
          ]
        }
      ]
    },
    {
      "cell_type": "code",
      "source": [
        "n=int(input(\"Enter your number that you want to multiply:\"))\n",
        "i=1#Multiplying any N number\n",
        "while i<=10:\n",
        "  print(n*i)\n",
        "  i+=1"
      ],
      "metadata": {
        "colab": {
          "base_uri": "https://localhost:8080/"
        },
        "id": "YfZNpEWzl5uk",
        "outputId": "9910adf6-b2e2-453b-e189-97ae9446c978"
      },
      "execution_count": 54,
      "outputs": [
        {
          "output_type": "stream",
          "name": "stdout",
          "text": [
            "Enter your number that you want to multiply:78\n",
            "78\n",
            "156\n",
            "234\n",
            "312\n",
            "390\n",
            "468\n",
            "546\n",
            "624\n",
            "702\n",
            "780\n"
          ]
        }
      ]
    },
    {
      "cell_type": "markdown",
      "source": [
        "#BREAK and CONTINUE"
      ],
      "metadata": {
        "id": "ZXtCA66JmXgb"
      }
    },
    {
      "cell_type": "code",
      "source": [
        "#Break=used to terminate the loop\n",
        "#Continue=terminates execution in the current iteration & continues execution of the loop with the next iteration\n"
      ],
      "metadata": {
        "id": "qo-GXI3SmPwS"
      },
      "execution_count": null,
      "outputs": []
    },
    {
      "cell_type": "markdown",
      "source": [
        "#FUNCTION AND RECURSION"
      ],
      "metadata": {
        "id": "gere_j4ZnRT0"
      }
    },
    {
      "cell_type": "code",
      "source": [
        "#Block of statements that perform a specific task.\n",
        "#Repetation of the whole code(Redundant) and function is udes to reduce redundancy as it seems stupid\n",
        "#You can convert that into function #Defining function\n",
        "def calc_sum(a,b):#Arguement\n",
        "  sum=a+b\n",
        "  print(sum)\n",
        "  return sum\n",
        "\n",
        "calc_sum(5,10)\n",
        "\n",
        "calc_sum(15,20)\n",
        "\n",
        "calc_sum(89,63)\n",
        "\n",
        "\n"
      ],
      "metadata": {
        "colab": {
          "base_uri": "https://localhost:8080/"
        },
        "id": "PujXdSRqnXWT",
        "outputId": "5bbe62f0-f2b6-48da-e559-22b1908930ef"
      },
      "execution_count": 57,
      "outputs": [
        {
          "output_type": "stream",
          "name": "stdout",
          "text": [
            "15\n",
            "35\n"
          ]
        },
        {
          "output_type": "execute_result",
          "data": {
            "text/plain": [
              "35"
            ]
          },
          "metadata": {},
          "execution_count": 57
        }
      ]
    },
    {
      "cell_type": "code",
      "source": [
        "#FUNCTION DEFINITION\n",
        "def calc_sum(a,b):#PARAMETERS(a,b)\n",
        "  return a+b\n",
        "\n",
        "sum=calc_sum(1,2)#function call;arguements(variables)\n",
        "print(sum)"
      ],
      "metadata": {
        "colab": {
          "base_uri": "https://localhost:8080/"
        },
        "id": "CUcr7n7czLWR",
        "outputId": "a5c5a777-e9ac-4d5c-c255-dbec959ed9e1"
      },
      "execution_count": 58,
      "outputs": [
        {
          "output_type": "stream",
          "name": "stdout",
          "text": [
            "3\n"
          ]
        }
      ]
    },
    {
      "cell_type": "code",
      "source": [
        "def print_hello():\n",
        "    print(\"HELLO\")\n",
        "\n",
        "print_hello()"
      ],
      "metadata": {
        "colab": {
          "base_uri": "https://localhost:8080/"
        },
        "id": "M-4Ll_Nrzga9",
        "outputId": "e92669b6-3a39-4b04-a2d0-fa09a92dff3a"
      },
      "execution_count": 64,
      "outputs": [
        {
          "output_type": "stream",
          "name": "stdout",
          "text": [
            "HELLO\n"
          ]
        }
      ]
    },
    {
      "cell_type": "code",
      "source": [
        "def ave_num(a,b,c):\n",
        "  sum=a+b+c\n",
        "  average=sum/3\n",
        "  print(average)\n",
        "  return average\n",
        "\n",
        "ave_num(1,2,3)\n"
      ],
      "metadata": {
        "colab": {
          "base_uri": "https://localhost:8080/"
        },
        "id": "uB4r62v30icM",
        "outputId": "3627191e-5151-4996-db76-ea72ebd87dc8"
      },
      "execution_count": 66,
      "outputs": [
        {
          "output_type": "stream",
          "name": "stdout",
          "text": [
            "2.0\n"
          ]
        },
        {
          "output_type": "execute_result",
          "data": {
            "text/plain": [
              "2.0"
            ]
          },
          "metadata": {},
          "execution_count": 66
        }
      ]
    }
  ]
}