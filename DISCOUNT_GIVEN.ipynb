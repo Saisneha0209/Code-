{
  "nbformat": 4,
  "nbformat_minor": 0,
  "metadata": {
    "colab": {
      "provenance": [],
      "authorship_tag": "ABX9TyPqJQein0exWvboOdlYQaLm",
      "include_colab_link": true
    },
    "kernelspec": {
      "name": "python3",
      "display_name": "Python 3"
    },
    "language_info": {
      "name": "python"
    }
  },
  "cells": [
    {
      "cell_type": "markdown",
      "metadata": {
        "id": "view-in-github",
        "colab_type": "text"
      },
      "source": [
        "<a href=\"https://colab.research.google.com/github/Saisneha0209/Code-/blob/main/DISCOUNT_GIVEN.ipynb\" target=\"_parent\"><img src=\"https://colab.research.google.com/assets/colab-badge.svg\" alt=\"Open In Colab\"/></a>"
      ]
    },
    {
      "cell_type": "code",
      "execution_count": null,
      "metadata": {
        "colab": {
          "base_uri": "https://localhost:8080/"
        },
        "id": "y14Cu3Lv1lUT",
        "outputId": "ec358e9f-3b35-4be7-a38b-0c903a0d5dc0"
      },
      "outputs": [
        {
          "output_type": "stream",
          "name": "stdout",
          "text": [
            "sum of first and second number 45\n",
            "difference of first and second number 5\n",
            "product of first and second number 500\n",
            "division of first and second number 1\n",
            "remainder of first and second number 5\n"
          ]
        }
      ],
      "source": [
        "#Arithematic progression(BASICS)\n",
        "#Usage of simple operations in python\n",
        "first_number=25\n",
        "second_number=20\n",
        "add=first_number+second_number\n",
        "subtract=first_number-second_number\n",
        "multiply=first_number*second_number\n",
        "divide=(int( first_number/second_number))\n",
        "remainder=first_number%second_number\n",
        "print(\"sum of first and second number\",add)\n",
        "print(\"difference of first and second number\",subtract)\n",
        "print(\"product of first and second number\",multiply)\n",
        "print(\"division of first and second number\",divide)\n",
        "print(\"remainder of first and second number\",remainder)"
      ]
    },
    {
      "cell_type": "markdown",
      "source": [
        "#This is the basic syntax by using basic operations of maths.\n",
        "#Here these terms like add,sub,divide,multiply,remainder etc.\n"
      ],
      "metadata": {
        "id": "vAABBYi1AwWX"
      }
    },
    {
      "cell_type": "markdown",
      "source": [],
      "metadata": {
        "id": "np-BHJpiBlte"
      }
    },
    {
      "cell_type": "code",
      "source": [
        "#TOTAL AMOUNT\n",
        "#Discount given\n",
        "price_of_per_pizza=150\n",
        "price_of_per_burger=70\n",
        "price_of_per_soup=120\n",
        "discount= int(input(\"enter the % of discount\"))\n",
        "total_amount= price_of_per_pizza + price_of_per_burger + price_of_per_soup\n",
        "discount_on_combo = (total_amount * discount) / 100\n",
        "sub=total_amount - discount_on_combo\n",
        "\n",
        "print(\"total_amount of price_of_per_pizza+price_of_per_burger+price_of_per_soup\",total_amount)\n",
        "print(\"Discount_on_combo\",discount_on_combo)\n",
        "print(\"payable_amount\",sub)"
      ],
      "metadata": {
        "colab": {
          "base_uri": "https://localhost:8080/"
        },
        "id": "mA8kQXEYB3ck",
        "outputId": "e301a8ae-da79-43d0-ca47-517e6035086c"
      },
      "execution_count": null,
      "outputs": [
        {
          "output_type": "stream",
          "name": "stdout",
          "text": [
            "enter the % of discount12\n",
            "total_amount of price_of_per_pizza+price_of_per_burger+price_of_per_soup 340\n",
            "Discount_on_combo 40.8\n",
            "payable_amount 299.2\n"
          ]
        }
      ]
    },
    {
      "cell_type": "markdown",
      "source": [
        "#Total amount of food ordered and discount given"
      ],
      "metadata": {
        "id": "XRc9M3eSL4Y2"
      }
    },
    {
      "cell_type": "code",
      "source": [
        "#Input of food ordered is by user itself\n",
        "#Amount(discount,total)\n",
        "price_of_per_pastry=90\n",
        "price_of_per_cake=340\n",
        "price_of_per_cheesecake=450\n",
        "price_of_kidz_pack=340\n",
        "order1=int(input(\"enter the number of pastries\"))\n",
        "order2=int(input(\"enter the number of cakes\"))\n",
        "order3=int(input(\"enter the number of cheesecakes\"))\n",
        "order4=int(input(\"enter the number of kidz_pack\"))\n",
        "total_amount=price_of_per_pastry+price_of_per_cake+price_of_per_cheesecake+price_of_kidz_pack\n",
        "discount=int(input(\"enter the % of discount\"))\n",
        "discount_on_combo=(total_amount*discount) /100\n",
        "sub=total_amount-discount_on_combo\n",
        "print(\"order1\",order1)\n",
        "print(\"order2\",order2)\n",
        "print(\"order3\",order3)\n",
        "print(\"order4\",order4)\n",
        "print(\"total amount of pastry,cake,cheesecake and kidz pack\",total_amount)\n",
        "print(\"discount_on_combo\",discount_on_combo)\n",
        "print(\"payable amount\",sub)"
      ],
      "metadata": {
        "colab": {
          "base_uri": "https://localhost:8080/"
        },
        "id": "LcF17s1ZJLP5",
        "outputId": "26ebfb1c-5a5c-4ad5-9514-8ccf73c222f5"
      },
      "execution_count": 1,
      "outputs": [
        {
          "output_type": "stream",
          "name": "stdout",
          "text": [
            "enter the number of pastries5\n",
            "enter the number of cakes12\n",
            "enter the number of cheesecakes2\n",
            "enter the number of kidz_pack4\n",
            "enter the % of discount12\n",
            "order1 5\n",
            "order2 12\n",
            "order3 2\n",
            "order4 4\n",
            "total amount of pastry,cake,cheesecake and kidz pack 1220\n",
            "discount_on_combo 146.4\n",
            "payable amount 1073.6\n"
          ]
        }
      ]
    }
  ]
}