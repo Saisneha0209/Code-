{
  "nbformat": 4,
  "nbformat_minor": 0,
  "metadata": {
    "colab": {
      "provenance": [],
      "authorship_tag": "ABX9TyMY0vWJTanRaI1pbV0KsRVU",
      "include_colab_link": true
    },
    "kernelspec": {
      "name": "python3",
      "display_name": "Python 3"
    },
    "language_info": {
      "name": "python"
    }
  },
  "cells": [
    {
      "cell_type": "markdown",
      "metadata": {
        "id": "view-in-github",
        "colab_type": "text"
      },
      "source": [
        "<a href=\"https://colab.research.google.com/github/Saisneha0209/Code-/blob/main/Simple_Interest_and_leap_year.ipynb\" target=\"_parent\"><img src=\"https://colab.research.google.com/assets/colab-badge.svg\" alt=\"Open In Colab\"/></a>"
      ]
    },
    {
      "cell_type": "code",
      "source": [
        "#SIMPLE INTEREST\n",
        "principal_amount=float(input(\"Enter the principal amount\"))\n",
        "rate=float(input(\"Enter the rate\"))\n",
        "time=float(input(\"Enter the time\"))\n",
        "SI=(principal_amount*rate*time)/100 #ENTER THE FORMULA\n",
        "print(\"Principal amount is:\",principal_amount)\n",
        "print(\"Rate is:\",rate)\n",
        "print(\"Time is:\",time)\n",
        "print(\"Simple interest is:\",SI)#DISPLAYING THE RESULT"
      ],
      "metadata": {
        "colab": {
          "base_uri": "https://localhost:8080/"
        },
        "id": "BI5mJyqV0I_E",
        "outputId": "7ecc1cb0-d05e-4a15-e7ce-0c4367b4498e"
      },
      "execution_count": 4,
      "outputs": [
        {
          "output_type": "stream",
          "name": "stdout",
          "text": [
            "Enter the principal amount5000.25\n",
            "Enter the rate5.2\n",
            "Enter the time2.3\n",
            "Principal amount is: 5000.25\n",
            "Rate is: 5.2\n",
            "Time is: 2.3\n",
            "Simple interest is: 598.0298999999999\n"
          ]
        }
      ]
    },
    {
      "cell_type": "markdown",
      "source": [
        "#SIMPLE INTEREST"
      ],
      "metadata": {
        "id": "8C9KZvaMHhk7"
      }
    },
    {
      "cell_type": "code",
      "source": [
        "#SIMPLE INTEREST BUT IN DAYS\n",
        "principal_amount=int(input(\"enter the principal amount\"))\n",
        "rate=int(input(\"enter the rate\"))\n",
        "months=int(input(\"enter the months\"))\n",
        "days=int(input(\"enter the days\"))\n",
        "total_time_in_days=(months*30+days)/30 #TO CONVERT IT INTO DAYS\n",
        "print(\"total time in days:\",total_time_in_days)\n",
        "SI=(principal_amount*rate*total_time_in_days)/100 #FORMULA\n",
        "print(\"principal amount is:\",principal_amount)\n",
        "print(\"rate is:\",rate)\n",
        "print(\"time is:\",time)\n",
        "print(\"simple interest is:\",SI)\n",
        "\n"
      ],
      "metadata": {
        "colab": {
          "base_uri": "https://localhost:8080/"
        },
        "id": "o9tXWVSo3M--",
        "outputId": "81420ff2-e21f-4d86-931b-148eab7c3d0e"
      },
      "execution_count": 8,
      "outputs": [
        {
          "output_type": "stream",
          "name": "stdout",
          "text": [
            "enter the principal amount2140\n",
            "enter the rate5\n",
            "enter the months6\n",
            "enter the days5\n",
            "total time in days: 6.166666666666667\n",
            "principal amount is: 2140\n",
            "rate is: 5\n",
            "time is: 2.3\n",
            "simple interest is: 659.8333333333335\n"
          ]
        }
      ]
    },
    {
      "cell_type": "markdown",
      "source": [
        "LEAP YEAR AND WHETHER IT IS DIVIDED BY 4 OR 400 and 100"
      ],
      "metadata": {
        "id": "QItF6-FaHlPF"
      }
    },
    {
      "cell_type": "code",
      "source": [
        "#TO DETECT LEAP YEAR\n",
        "year=int(input(\"enter the year\"))#FOR INPUT OF YEAR\n",
        "if year%4==0:\n",
        "  if year%100==0:\n",
        "     if year%400==0:\n",
        "      print(\"it is a leap year\")\n",
        "     else:\n",
        "        print(\"it is not a leap year\")\n",
        "  else:\n",
        "    print(\"it is a leap year\")\n",
        "\n",
        "else:\n",
        "   print(\"it is not a leap year\")"
      ],
      "metadata": {
        "colab": {
          "base_uri": "https://localhost:8080/"
        },
        "id": "ghTGdK5nCecG",
        "outputId": "cc798c12-83eb-41f4-fce4-c327f9d3a946"
      },
      "execution_count": 74,
      "outputs": [
        {
          "output_type": "stream",
          "name": "stdout",
          "text": [
            "enter the year2400\n",
            "it is a leap year\n"
          ]
        }
      ]
    },
    {
      "cell_type": "code",
      "source": [
        "year=int(input(\"enter the year\"))\n",
        "if year%4==0:\n",
        "  print(\"it is a leap year\")\n",
        "else:\n",
        "    print(\"it is not a leap year\")\n",
        "    if year%100==0:\n",
        "      print(\"it is not a leap year\")\n",
        "    else:\n",
        "        print(\"it is a leap year\")\n",
        "        if year%400==0:\n",
        "          print(\"it is a leap year\")\n",
        "        else:\n",
        "            print(\"it is not a leap year\")"
      ],
      "metadata": {
        "id": "9d9RRSDGIzht",
        "outputId": "74c70e9c-a25e-4bdf-f022-1bdf8cc81a9d",
        "colab": {
          "base_uri": "https://localhost:8080/"
        }
      },
      "execution_count": 75,
      "outputs": [
        {
          "output_type": "stream",
          "name": "stdout",
          "text": [
            "enter the year2400\n",
            "it is a leap year\n"
          ]
        }
      ]
    }
  ]
}