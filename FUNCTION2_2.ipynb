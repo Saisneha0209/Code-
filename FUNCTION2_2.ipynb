{
  "nbformat": 4,
  "nbformat_minor": 0,
  "metadata": {
    "colab": {
      "provenance": [],
      "authorship_tag": "ABX9TyOZhAUL9skQ4O2JZdby6Rma",
      "include_colab_link": true
    },
    "kernelspec": {
      "name": "python3",
      "display_name": "Python 3"
    },
    "language_info": {
      "name": "python"
    }
  },
  "cells": [
    {
      "cell_type": "markdown",
      "metadata": {
        "id": "view-in-github",
        "colab_type": "text"
      },
      "source": [
        "<a href=\"https://colab.research.google.com/github/Saisneha0209/Code-/blob/main/FUNCTION2_2.ipynb\" target=\"_parent\"><img src=\"https://colab.research.google.com/assets/colab-badge.svg\" alt=\"Open In Colab\"/></a>"
      ]
    },
    {
      "cell_type": "code",
      "execution_count": 4,
      "metadata": {
        "colab": {
          "base_uri": "https://localhost:8080/"
        },
        "id": "GF5diVeF0scs",
        "outputId": "5883c2a0-9ec7-47f7-a4da-33618e6b82f1"
      },
      "outputs": [
        {
          "output_type": "stream",
          "name": "stdout",
          "text": [
            "75\n"
          ]
        }
      ],
      "source": [
        "#LCM\n",
        "num1=15\n",
        "num2=25\n",
        "if num1>num2:\n",
        "  greatest=num1\n",
        "else:\n",
        "  greatest=num2\n",
        "for i in range(greatest,num1*num2+1):\n",
        "  if i%num1 == 0 and i%num2 == 0:\n",
        "    print(i)\n",
        "    break\n",
        "\n",
        "\n",
        "\n",
        "\n"
      ]
    },
    {
      "cell_type": "code",
      "source": [
        "#A person moves in circular path find how many times they will meet!\n",
        "A=30\n",
        "B=40\n",
        "if A>B:\n",
        "  greatest=A\n",
        "else:\n",
        "  greatest=B\n",
        "for i in range(greatest,A*B+1):\n",
        "  if i%A == 0 and i%B == 0:\n",
        "    print(i)\n",
        "    break\n",
        "time=3630\n",
        "meeting=(time/i)\n",
        "print(int(meeting))\n"
      ],
      "metadata": {
        "colab": {
          "base_uri": "https://localhost:8080/"
        },
        "id": "ZrPq1rqq9cEz",
        "outputId": "bb8f363b-c2cd-4256-c05d-5f8b7cdcaf4d"
      },
      "execution_count": 11,
      "outputs": [
        {
          "output_type": "stream",
          "name": "stdout",
          "text": [
            "120\n",
            "3\n"
          ]
        }
      ]
    },
    {
      "cell_type": "code",
      "source": [
        "#FINDING AVERAGE SPEED OF A and B on a circular path of length 100 METER\n",
        "total_time_a=30\n",
        "total_time_b=40\n",
        "final_time=total_time_a+total_time_b\n",
        "length=100\n",
        "avg_speed_a=length/total_time_a\n",
        "avg_speed_b=length/total_time_b\n",
        "avg_speed_both=length/final_time\n",
        "print(avg_speed_a)\n",
        "print(avg_speed_b)\n",
        "print(avg_speed_both)\n"
      ],
      "metadata": {
        "colab": {
          "base_uri": "https://localhost:8080/"
        },
        "id": "9JRIwp50B9kA",
        "outputId": "dac3bacb-4e30-4f02-9ec7-32e505be77d7"
      },
      "execution_count": 19,
      "outputs": [
        {
          "output_type": "stream",
          "name": "stdout",
          "text": [
            "3.3333333333333335\n",
            "2.5\n",
            "1.4285714285714286\n"
          ]
        }
      ]
    }
  ]
}