{
  "nbformat": 4,
  "nbformat_minor": 0,
  "metadata": {
    "colab": {
      "provenance": [],
      "authorship_tag": "ABX9TyPxSfHFISyv/Tbe7xaWnvAO",
      "include_colab_link": true
    },
    "kernelspec": {
      "name": "python3",
      "display_name": "Python 3"
    },
    "language_info": {
      "name": "python"
    }
  },
  "cells": [
    {
      "cell_type": "markdown",
      "metadata": {
        "id": "view-in-github",
        "colab_type": "text"
      },
      "source": [
        "<a href=\"https://colab.research.google.com/github/Saisneha0209/Code-/blob/main/LOOP3.1.ipynb\" target=\"_parent\"><img src=\"https://colab.research.google.com/assets/colab-badge.svg\" alt=\"Open In Colab\"/></a>"
      ]
    },
    {
      "cell_type": "code",
      "execution_count": null,
      "metadata": {
        "colab": {
          "base_uri": "https://localhost:8080/"
        },
        "id": "EUkqWNZoLKI3",
        "outputId": "3b617876-651f-42e0-faeb-1adc893df8c3"
      },
      "outputs": [
        {
          "output_type": "stream",
          "name": "stdout",
          "text": [
            "8\n",
            "56\n",
            "336\n",
            "1680\n"
          ]
        }
      ],
      "source": [
        "product=1\n",
        "num=5678\n",
        "while num>0:\n",
        "  digit=num%10\n",
        "  product=product*digit\n",
        "  num=num//10\n",
        "  print(product)\n"
      ]
    },
    {
      "cell_type": "code",
      "source": [
        "rev=0\n",
        "num=5689\n",
        "while num>0:\n",
        "  digit=num%10\n",
        "  rev=rev*10+digit\n",
        "  num=num//10\n",
        "print(rev)"
      ],
      "metadata": {
        "colab": {
          "base_uri": "https://localhost:8080/"
        },
        "id": "XBdWxfDROGiK",
        "outputId": "93c46c95-bbf0-4839-9a96-da16717ea5f1"
      },
      "execution_count": null,
      "outputs": [
        {
          "output_type": "stream",
          "name": "stdout",
          "text": [
            "9865\n"
          ]
        }
      ]
    },
    {
      "cell_type": "code",
      "source": [
        "i=1\n",
        "for i in range(1,100):\n",
        "  if i%5==0:\n",
        "    continue\n",
        "  print(i)"
      ],
      "metadata": {
        "colab": {
          "base_uri": "https://localhost:8080/"
        },
        "id": "eTWN4BDzSGdo",
        "outputId": "2c8b1898-d5df-491f-df38-56a1c637829b"
      },
      "execution_count": null,
      "outputs": [
        {
          "output_type": "stream",
          "name": "stdout",
          "text": [
            "1\n",
            "2\n",
            "3\n",
            "4\n",
            "6\n",
            "7\n",
            "8\n",
            "9\n",
            "11\n",
            "12\n",
            "13\n",
            "14\n",
            "16\n",
            "17\n",
            "18\n",
            "19\n",
            "21\n",
            "22\n",
            "23\n",
            "24\n",
            "26\n",
            "27\n",
            "28\n",
            "29\n",
            "31\n",
            "32\n",
            "33\n",
            "34\n",
            "36\n",
            "37\n",
            "38\n",
            "39\n",
            "41\n",
            "42\n",
            "43\n",
            "44\n",
            "46\n",
            "47\n",
            "48\n",
            "49\n",
            "51\n",
            "52\n",
            "53\n",
            "54\n",
            "56\n",
            "57\n",
            "58\n",
            "59\n",
            "61\n",
            "62\n",
            "63\n",
            "64\n",
            "66\n",
            "67\n",
            "68\n",
            "69\n",
            "71\n",
            "72\n",
            "73\n",
            "74\n",
            "76\n",
            "77\n",
            "78\n",
            "79\n",
            "81\n",
            "82\n",
            "83\n",
            "84\n",
            "86\n",
            "87\n",
            "88\n",
            "89\n",
            "91\n",
            "92\n",
            "93\n",
            "94\n",
            "96\n",
            "97\n",
            "98\n",
            "99\n"
          ]
        }
      ]
    },
    {
      "cell_type": "code",
      "source": [
        "for year in range(2001,2501):\n",
        "  if year%4==0:\n",
        "    if year%100==0:\n",
        "       if year%400==0:\n",
        "        print(year)\n",
        "    else:\n",
        "      print(year)\n",
        "\n",
        "\n"
      ],
      "metadata": {
        "id": "40rbTILLVx0C",
        "colab": {
          "base_uri": "https://localhost:8080/"
        },
        "outputId": "f69032fb-8046-42e7-8619-1ae00914fcc2"
      },
      "execution_count": 31,
      "outputs": [
        {
          "output_type": "stream",
          "name": "stdout",
          "text": [
            "2004\n",
            "2008\n",
            "2012\n",
            "2016\n",
            "2020\n",
            "2024\n",
            "2028\n",
            "2032\n",
            "2036\n",
            "2040\n",
            "2044\n",
            "2048\n",
            "2052\n",
            "2056\n",
            "2060\n",
            "2064\n",
            "2068\n",
            "2072\n",
            "2076\n",
            "2080\n",
            "2084\n",
            "2088\n",
            "2092\n",
            "2096\n",
            "2104\n",
            "2108\n",
            "2112\n",
            "2116\n",
            "2120\n",
            "2124\n",
            "2128\n",
            "2132\n",
            "2136\n",
            "2140\n",
            "2144\n",
            "2148\n",
            "2152\n",
            "2156\n",
            "2160\n",
            "2164\n",
            "2168\n",
            "2172\n",
            "2176\n",
            "2180\n",
            "2184\n",
            "2188\n",
            "2192\n",
            "2196\n",
            "2204\n",
            "2208\n",
            "2212\n",
            "2216\n",
            "2220\n",
            "2224\n",
            "2228\n",
            "2232\n",
            "2236\n",
            "2240\n",
            "2244\n",
            "2248\n",
            "2252\n",
            "2256\n",
            "2260\n",
            "2264\n",
            "2268\n",
            "2272\n",
            "2276\n",
            "2280\n",
            "2284\n",
            "2288\n",
            "2292\n",
            "2296\n",
            "2304\n",
            "2308\n",
            "2312\n",
            "2316\n",
            "2320\n",
            "2324\n",
            "2328\n",
            "2332\n",
            "2336\n",
            "2340\n",
            "2344\n",
            "2348\n",
            "2352\n",
            "2356\n",
            "2360\n",
            "2364\n",
            "2368\n",
            "2372\n",
            "2376\n",
            "2380\n",
            "2384\n",
            "2388\n",
            "2392\n",
            "2396\n",
            "2400\n",
            "2404\n",
            "2408\n",
            "2412\n",
            "2416\n",
            "2420\n",
            "2424\n",
            "2428\n",
            "2432\n",
            "2436\n",
            "2440\n",
            "2444\n",
            "2448\n",
            "2452\n",
            "2456\n",
            "2460\n",
            "2464\n",
            "2468\n",
            "2472\n",
            "2476\n",
            "2480\n",
            "2484\n",
            "2488\n",
            "2492\n",
            "2496\n"
          ]
        }
      ]
    }
  ]
}