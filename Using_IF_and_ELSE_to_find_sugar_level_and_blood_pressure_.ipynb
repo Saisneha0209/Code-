{
  "nbformat": 4,
  "nbformat_minor": 0,
  "metadata": {
    "colab": {
      "provenance": [],
      "authorship_tag": "ABX9TyO5DZyLJiCpKfNvw5cX7nPb",
      "include_colab_link": true
    },
    "kernelspec": {
      "name": "python3",
      "display_name": "Python 3"
    },
    "language_info": {
      "name": "python"
    }
  },
  "cells": [
    {
      "cell_type": "markdown",
      "metadata": {
        "id": "view-in-github",
        "colab_type": "text"
      },
      "source": [
        "<a href=\"https://colab.research.google.com/github/Saisneha0209/Code-/blob/main/Using_IF_and_ELSE_to_find_sugar_level_and_blood_pressure_.ipynb\" target=\"_parent\"><img src=\"https://colab.research.google.com/assets/colab-badge.svg\" alt=\"Open In Colab\"/></a>"
      ]
    },
    {
      "cell_type": "code",
      "execution_count": 34,
      "metadata": {
        "colab": {
          "base_uri": "https://localhost:8080/"
        },
        "id": "4kzqJSpfrteV",
        "outputId": "a7b20692-d26d-4d38-faff-d702a3dc9b27"
      },
      "outputs": [
        {
          "output_type": "stream",
          "name": "stdout",
          "text": [
            "enter your gender:female\n",
            "enter your age45\n",
            "enter your blood pressure125\n",
            "enter your sugar level98\n",
            "Your blood pressure is elevated\n",
            "Your blood pressure is normal\n",
            "your sugar level is normal\n"
          ]
        }
      ],
      "source": [
        "gender=input(\"enter your gender:\")\n",
        "age=int(input(\"enter your age\"))\n",
        "blood_pressure=int(input(\"enter your blood pressure\"))\n",
        "sugar_level=int(input(\"enter your sugar level\"))\n",
        "if blood_pressure >= 121 < 128:\n",
        "  print(\"Your blood pressure is elevated\")\n",
        "if blood_pressure >= 135 < 140:\n",
        "  print(\"Your blood pressure is high\")\n",
        "if blood_pressure >= 145 < 150:\n",
        "    print(\"Your blood pressure is very high risk\")\n",
        "else:\n",
        "  print(\"Your blood pressure is normal\")\n",
        "if sugar_level >= 100 < 125:\n",
        "    print(\"Your sugar level is high\")\n",
        "if sugar_level >= 126 < 130:\n",
        "  print(\"Your sugar level is very high risk\")\n",
        "else:\n",
        "  print(\"your sugar level is normal\")\n"
      ]
    },
    {
      "cell_type": "code",
      "source": [
        "age=int(input(\"enter the age\"))\n",
        "if age <= 0 > 150:\n",
        " if age >= 60 < 100:\n",
        "  berth=\"lower berth\"\n",
        "  print(\"BERTH ALLOTTED IS:\",berth)\n",
        "if age >= 40 < 60:\n",
        "  berth=\"higher berth\"\n",
        "  print(\"BERTH ALLOTTED IS:\",berth)\n",
        "if age >= 20 < 40:\n",
        "  berth=\"middle berth\"\n",
        "  print(\"BERTH ALLOTTED IS:\",berth)\n",
        "else:\n",
        "  print(\"INVALID\")"
      ],
      "metadata": {
        "colab": {
          "base_uri": "https://localhost:8080/"
        },
        "id": "7270Y4wI5GE4",
        "outputId": "cc4e3e90-52c2-4337-ccab-b916c84e1747"
      },
      "execution_count": 31,
      "outputs": [
        {
          "output_type": "stream",
          "name": "stdout",
          "text": [
            "enter the age55\n",
            "BERTH ALLOTTED IS: higher berth\n",
            "BERTH ALLOTTED IS: middle berth\n"
          ]
        }
      ]
    }
  ]
}