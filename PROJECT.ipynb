{
  "nbformat": 4,
  "nbformat_minor": 0,
  "metadata": {
    "colab": {
      "provenance": [],
      "authorship_tag": "ABX9TyNlbcqnQmAFMZwdLtdS7jiZ",
      "include_colab_link": true
    },
    "kernelspec": {
      "name": "python3",
      "display_name": "Python 3"
    },
    "language_info": {
      "name": "python"
    }
  },
  "cells": [
    {
      "cell_type": "markdown",
      "metadata": {
        "id": "view-in-github",
        "colab_type": "text"
      },
      "source": [
        "<a href=\"https://colab.research.google.com/github/Saisneha0209/Code-/blob/main/PROJECT.ipynb\" target=\"_parent\"><img src=\"https://colab.research.google.com/assets/colab-badge.svg\" alt=\"Open In Colab\"/></a>"
      ]
    },
    {
      "cell_type": "code",
      "execution_count": 56,
      "metadata": {
        "colab": {
          "base_uri": "https://localhost:8080/",
          "height": 540
        },
        "id": "roNe2Xm5EP9Q",
        "outputId": "e1d85bdb-5c84-4376-e6a4-2019707e9dff"
      },
      "outputs": [
        {
          "output_type": "stream",
          "name": "stdout",
          "text": [
            "3795\n",
            "Odisha\n",
            "0\n",
            "Chandigarh\n",
            "0\n",
            "Gujarat\n",
            "0\n",
            "Shimla\n",
            "0\n",
            "Bihar\n",
            "0\n",
            "shirt\n",
            "['female']\n",
            "['female', 'male']\n",
            "Odisha\n",
            "Chandigarh\n",
            "Gujarat\n",
            "Shimla\n",
            "Bihar\n"
          ]
        },
        {
          "output_type": "error",
          "ename": "TypeError",
          "evalue": "can only concatenate str (not \"int\") to str",
          "traceback": [
            "\u001b[0;31m---------------------------------------------------------------------------\u001b[0m",
            "\u001b[0;31mTypeError\u001b[0m                                 Traceback (most recent call last)",
            "\u001b[0;32m/tmp/ipython-input-1986988564.py\u001b[0m in \u001b[0;36m<cell line: 0>\u001b[0;34m()\u001b[0m\n\u001b[1;32m     35\u001b[0m   \u001b[0;32mfor\u001b[0m \u001b[0mi\u001b[0m \u001b[0;32min\u001b[0m \u001b[0mrange\u001b[0m\u001b[0;34m(\u001b[0m\u001b[0mlen\u001b[0m\u001b[0;34m(\u001b[0m\u001b[0mstates\u001b[0m\u001b[0;34m)\u001b[0m\u001b[0;34m)\u001b[0m\u001b[0;34m:\u001b[0m\u001b[0;34m\u001b[0m\u001b[0;34m\u001b[0m\u001b[0m\n\u001b[1;32m     36\u001b[0m        \u001b[0mindex\u001b[0m\u001b[0;34m=\u001b[0m\u001b[0munique_state\u001b[0m\u001b[0;34m.\u001b[0m\u001b[0mindex\u001b[0m\u001b[0;34m(\u001b[0m\u001b[0mstates\u001b[0m\u001b[0;34m[\u001b[0m\u001b[0mi\u001b[0m\u001b[0;34m]\u001b[0m\u001b[0;34m)\u001b[0m\u001b[0;34m\u001b[0m\u001b[0;34m\u001b[0m\u001b[0m\n\u001b[0;32m---> 37\u001b[0;31m        \u001b[0msales_state\u001b[0m\u001b[0;34m[\u001b[0m\u001b[0mindex\u001b[0m\u001b[0;34m]\u001b[0m\u001b[0;34m=\u001b[0m\u001b[0msales_state\u001b[0m\u001b[0;34m[\u001b[0m\u001b[0mindex\u001b[0m\u001b[0;34m]\u001b[0m\u001b[0;34m+\u001b[0m\u001b[0mamount\u001b[0m\u001b[0;34m[\u001b[0m\u001b[0mi\u001b[0m\u001b[0;34m]\u001b[0m\u001b[0;34m\u001b[0m\u001b[0;34m\u001b[0m\u001b[0m\n\u001b[0m\u001b[1;32m     38\u001b[0m        \u001b[0mprint\u001b[0m\u001b[0;34m(\u001b[0m\u001b[0msales_state\u001b[0m\u001b[0;34m)\u001b[0m\u001b[0;34m\u001b[0m\u001b[0;34m\u001b[0m\u001b[0m\n\u001b[1;32m     39\u001b[0m \u001b[0;34m\u001b[0m\u001b[0m\n",
            "\u001b[0;31mTypeError\u001b[0m: can only concatenate str (not \"int\") to str"
          ]
        }
      ],
      "source": [
        "customer_name=[\"Damini\",\"Kiara\",\"Vineet\",\"Preeti\",\"Shree\",\"Sudeeksha\",\"Shyam\",\"Krishna\",\"Mohan\"]\n",
        "states=[\"Odisha\",\"Chandigarh\",\"Odisha\",\"Gujarat\",\"Odisha\",\"Shimla\",\"Bihar\",\"Bihar\"]\n",
        "product=[\"shirt\",\"pant\",\"socks\",\"hat\",\"sunglasses\",\"facewash\",\"moisturizer\",\"scrunchies\",\"crocks\"]\n",
        "amount=[450,520,120,455,630,250,450,140,780]\n",
        "gender=[\"female\",\"male\"]\n",
        "total_sales=0\n",
        "for i in amount: #1st analysis for total amount(sales)\n",
        "  total_sales=total_sales+i\n",
        "print(total_sales)\n",
        "unique_state=[]\n",
        "sales_state=[]\n",
        "for i in states: #2nd analysis for the states(We do not want states to come 2 times and we can not count 2 times so for this)\n",
        "  if i not in unique_state:\n",
        "   unique_state.append(i)\n",
        "   print(i)\n",
        "   sales_state.append(i)\n",
        "   print(0)\n",
        "   #product wise\n",
        "unique_product=[]\n",
        "for i in product:\n",
        "  if i not in unique_product:\n",
        "    unique_product.append(i)\n",
        "  print(i)\n",
        "\n",
        "  #gender wise\n",
        "  unique_gender=[]\n",
        "  for i in gender:\n",
        "    if i not in unique_gender:\n",
        "      unique_gender.append(i)\n",
        "    print(unique_gender)\n",
        " #state wise\n",
        "  for i in range(len(unique_state)):\n",
        "   print(unique_state[i])\n",
        "\n",
        "  for i in range(len(states)):\n",
        "       index=unique_state.index(states[i])\n",
        "       sales_state[index]=sales_state[index]+amount[i]\n",
        "       print(sales_state)\n",
        "\n",
        "\n",
        "\n",
        "\n",
        "\n"
      ]
    }
  ]
}