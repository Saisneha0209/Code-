{
  "nbformat": 4,
  "nbformat_minor": 0,
  "metadata": {
    "colab": {
      "provenance": [],
      "authorship_tag": "ABX9TyP3YZ/7iqSMW0te6iCsg8dI",
      "include_colab_link": true
    },
    "kernelspec": {
      "name": "python3",
      "display_name": "Python 3"
    },
    "language_info": {
      "name": "python"
    }
  },
  "cells": [
    {
      "cell_type": "markdown",
      "metadata": {
        "id": "view-in-github",
        "colab_type": "text"
      },
      "source": [
        "<a href=\"https://colab.research.google.com/github/Saisneha0209/Code-/blob/main/FUNCTIONS_2_1.ipynb\" target=\"_parent\"><img src=\"https://colab.research.google.com/assets/colab-badge.svg\" alt=\"Open In Colab\"/></a>"
      ]
    },
    {
      "cell_type": "code",
      "execution_count": 3,
      "metadata": {
        "colab": {
          "base_uri": "https://localhost:8080/"
        },
        "id": "suwsUcn6muZs",
        "outputId": "12fb8ec5-9f44-4792-ff4e-ad75f335e63c"
      },
      "outputs": [
        {
          "output_type": "stream",
          "name": "stdout",
          "text": [
            "5\n"
          ]
        }
      ],
      "source": [
        "#hcf formula\n",
        "def find_hcf(a,b):\n",
        "  while(b):\n",
        "   a,b=b,a%b\n",
        "  return a\n",
        "num1=10\n",
        "num2=15\n",
        "print(find_hcf(num1,num2))"
      ]
    },
    {
      "cell_type": "code",
      "source": [
        "a=lambda a,b:a+b\n",
        "print(a(3,7))"
      ],
      "metadata": {
        "colab": {
          "base_uri": "https://localhost:8080/"
        },
        "id": "iL15eevwne1E",
        "outputId": "8c90063b-2e43-4f0a-e7d6-bb2a32d65bbe"
      },
      "execution_count": 4,
      "outputs": [
        {
          "output_type": "stream",
          "name": "stdout",
          "text": [
            "10\n"
          ]
        }
      ]
    },
    {
      "cell_type": "code",
      "source": [
        "#key value\n",
        "def focus(**kwargs):\n",
        "  for key,value in kwargs.items():\n",
        "    print(f\"{key}={value}\")\n",
        "focus(name=\"saisneha\",age=25)"
      ],
      "metadata": {
        "colab": {
          "base_uri": "https://localhost:8080/"
        },
        "id": "Vn18SmNRnorl",
        "outputId": "c6340a00-751d-48e8-8c3c-e588ecc057c3"
      },
      "execution_count": 5,
      "outputs": [
        {
          "output_type": "stream",
          "name": "stdout",
          "text": [
            "name=saisneha\n",
            "age=25\n"
          ]
        }
      ]
    },
    {
      "cell_type": "code",
      "source": [
        "#f use\n",
        "a=15\n",
        "b=2\n",
        "print(f\"sum of {a} and the sum of{b} is:{a+b}\")"
      ],
      "metadata": {
        "colab": {
          "base_uri": "https://localhost:8080/"
        },
        "id": "ybdGHAT4oFNx",
        "outputId": "33202246-c420-48a3-a27e-0b1df7995f99"
      },
      "execution_count": 6,
      "outputs": [
        {
          "output_type": "stream",
          "name": "stdout",
          "text": [
            "sum of 15 and the sum of2 is:17\n"
          ]
        }
      ]
    },
    {
      "cell_type": "code",
      "source": [
        "def fact(n):\n",
        "  sum=0\n",
        "  fact=1\n",
        "  for i in range(1,n+1,2):\n",
        "    for y in range(1,i+1):\n",
        "      fact=fact*y\n",
        "      #print(fact)\n",
        "      sum=sum+fact\n",
        "      print(sum)\n",
        "x=4\n",
        "fact(x)"
      ],
      "metadata": {
        "colab": {
          "base_uri": "https://localhost:8080/"
        },
        "id": "OCUF73zqoWYm",
        "outputId": "9349a2b7-407d-4e02-e69d-0440a63bc8e7"
      },
      "execution_count": 8,
      "outputs": [
        {
          "output_type": "stream",
          "name": "stdout",
          "text": [
            "1\n",
            "2\n",
            "4\n",
            "10\n"
          ]
        }
      ]
    },
    {
      "cell_type": "code",
      "source": [
        "def addnum(*args):\n",
        "  return sum(args)\n",
        "a=addnum(2,3,4)\n",
        "b=addnum(3,9)\n",
        "print(a)\n",
        "print(b)"
      ],
      "metadata": {
        "colab": {
          "base_uri": "https://localhost:8080/"
        },
        "id": "igDrpKzAopoy",
        "outputId": "74b899ec-0adb-4e8e-d6d6-23d39d0338ec"
      },
      "execution_count": 9,
      "outputs": [
        {
          "output_type": "stream",
          "name": "stdout",
          "text": [
            "9\n",
            "12\n"
          ]
        }
      ]
    },
    {
      "cell_type": "code",
      "source": [
        "#factorial use by function\n",
        "def fact(n):\n",
        "  fact=1\n",
        "  sum=0\n",
        "  for i in range(1,n+1):\n",
        "    fact=fact*i\n",
        "  return fact\n",
        "a=fact(5)\n",
        "b=fact(2)\n",
        "print(a)\n",
        "print(b)"
      ],
      "metadata": {
        "colab": {
          "base_uri": "https://localhost:8080/"
        },
        "id": "697tmXYIpAmx",
        "outputId": "214cc816-d6ea-4a10-bae5-ecbfcd2831fe"
      },
      "execution_count": 11,
      "outputs": [
        {
          "output_type": "stream",
          "name": "stdout",
          "text": [
            "120\n",
            "2\n"
          ]
        }
      ]
    },
    {
      "cell_type": "code",
      "source": [
        "def fact(n):\n",
        "  fact=1\n",
        "  sum=0\n",
        "  for i in range(1,n+1):\n",
        "    fact=fact*i\n",
        "\n",
        "  return fact\n",
        "\n",
        "a=fact(5)\n",
        "b=fact(2)\n",
        "print(a)\n",
        "print(b)"
      ],
      "metadata": {
        "colab": {
          "base_uri": "https://localhost:8080/"
        },
        "id": "6q7Qyj29pYAO",
        "outputId": "a3ede4fd-c40a-4485-c68c-10597d8aeecc"
      },
      "execution_count": 12,
      "outputs": [
        {
          "output_type": "stream",
          "name": "stdout",
          "text": [
            "120\n",
            "2\n"
          ]
        }
      ]
    },
    {
      "cell_type": "code",
      "source": [
        "def biodata(name,age,salary):\n",
        "  print(name)\n",
        "  print(age)\n",
        "  print(salary)\n",
        "a=biodata(\"Saisneha\",16,28000)"
      ],
      "metadata": {
        "colab": {
          "base_uri": "https://localhost:8080/"
        },
        "id": "1lvc-P-ip08A",
        "outputId": "e3490830-18c7-4e51-bf16-1bb7d88718a3"
      },
      "execution_count": 13,
      "outputs": [
        {
          "output_type": "stream",
          "name": "stdout",
          "text": [
            "Saisneha\n",
            "16\n",
            "28000\n"
          ]
        }
      ]
    },
    {
      "cell_type": "code",
      "source": [
        "#sum function #use\n",
        "def add(n):\n",
        "  sum=0\n",
        "  for i in range(0,n+1):\n",
        "    sum=sum+i\n",
        "  print(sum)\n",
        "\n",
        "#call\n",
        "\n",
        "add(10)"
      ],
      "metadata": {
        "colab": {
          "base_uri": "https://localhost:8080/"
        },
        "id": "q-JUQY1FqDlr",
        "outputId": "eefa80ca-4b2c-4dbe-bd7e-28df52a2ac22"
      },
      "execution_count": 14,
      "outputs": [
        {
          "output_type": "stream",
          "name": "stdout",
          "text": [
            "55\n"
          ]
        }
      ]
    },
    {
      "cell_type": "code",
      "source": [
        "#factorial #return\n",
        "def mul(n):\n",
        "  fact=1\n",
        "  for i in range(1,n+1):\n",
        "    fact=fact*i\n",
        "  return fact\n",
        "\n",
        "a=mul(10)\n",
        "b=mul(20)\n",
        "print(a)\n",
        "print(b)"
      ],
      "metadata": {
        "colab": {
          "base_uri": "https://localhost:8080/"
        },
        "id": "ywGlj30bqRoZ",
        "outputId": "4358dbec-83d5-469c-dd8e-96371d166588"
      },
      "execution_count": 18,
      "outputs": [
        {
          "output_type": "stream",
          "name": "stdout",
          "text": [
            "3628800\n",
            "2432902008176640000\n"
          ]
        }
      ]
    },
    {
      "cell_type": "code",
      "source": [
        "#factorial#\n",
        "def mul(n):\n",
        "  fact=1\n",
        "  for i in range(1,n+1):\n",
        "    fact=fact*i\n",
        "  return fact\n",
        "\n",
        "a=mul(10)\n",
        "b=mul(5)\n",
        "print(a)\n",
        "print(b)"
      ],
      "metadata": {
        "colab": {
          "base_uri": "https://localhost:8080/"
        },
        "id": "bvNgF_hstKoY",
        "outputId": "58a0463f-bc09-4917-fea5-0e2f60fe2a58"
      },
      "execution_count": 21,
      "outputs": [
        {
          "output_type": "stream",
          "name": "stdout",
          "text": [
            "3628800\n",
            "120\n"
          ]
        }
      ]
    },
    {
      "cell_type": "code",
      "source": [
        "#add\n",
        "def add(a,b,c):\n",
        "  return a+b+c\n",
        "a=add(2,5,6)\n",
        "b=add(9,4,6)\n",
        "print(a)\n",
        "print(b)"
      ],
      "metadata": {
        "colab": {
          "base_uri": "https://localhost:8080/"
        },
        "id": "OAIu-zS7uc9_",
        "outputId": "84824501-165b-4f58-d984-b26a727bf07c"
      },
      "execution_count": 22,
      "outputs": [
        {
          "output_type": "stream",
          "name": "stdout",
          "text": [
            "13\n",
            "19\n"
          ]
        }
      ]
    },
    {
      "cell_type": "code",
      "source": [
        "def fact(n):#back se start hoga\n",
        " if n==0 or n==1:\n",
        "  return 1\n",
        " else:\n",
        "  return n*fact(n-1)\n",
        "a=fact(5)\n",
        "b=fact(3)\n",
        "print(a)\n",
        "print(b)"
      ],
      "metadata": {
        "colab": {
          "base_uri": "https://localhost:8080/"
        },
        "id": "_agbV_JinHDj",
        "outputId": "5262c790-a391-463b-d084-3040aa03f01a"
      },
      "execution_count": 2,
      "outputs": [
        {
          "output_type": "stream",
          "name": "stdout",
          "text": [
            "120\n",
            "6\n"
          ]
        }
      ]
    }
  ]
}