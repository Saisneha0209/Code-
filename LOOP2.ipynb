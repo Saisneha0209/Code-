{
  "nbformat": 4,
  "nbformat_minor": 0,
  "metadata": {
    "colab": {
      "provenance": [],
      "authorship_tag": "ABX9TyOz64Ct4A/llbglGUuxiYtw",
      "include_colab_link": true
    },
    "kernelspec": {
      "name": "python3",
      "display_name": "Python 3"
    },
    "language_info": {
      "name": "python"
    }
  },
  "cells": [
    {
      "cell_type": "markdown",
      "metadata": {
        "id": "view-in-github",
        "colab_type": "text"
      },
      "source": [
        "<a href=\"https://colab.research.google.com/github/Saisneha0209/Code-/blob/main/LOOP2.ipynb\" target=\"_parent\"><img src=\"https://colab.research.google.com/assets/colab-badge.svg\" alt=\"Open In Colab\"/></a>"
      ]
    },
    {
      "cell_type": "code",
      "execution_count": null,
      "metadata": {
        "colab": {
          "base_uri": "https://localhost:8080/"
        },
        "id": "V7xLMkTy9-Ta",
        "outputId": "1c257fcf-b344-4904-b4fb-4000346ae10c"
      },
      "outputs": [
        {
          "output_type": "stream",
          "name": "stdout",
          "text": [
            "1.4\n"
          ]
        }
      ],
      "source": [
        "a=7\n",
        "b=5\n",
        "c=a/b\n",
        "print(c)"
      ]
    },
    {
      "cell_type": "code",
      "source": [
        "#fibonacci series\n",
        "num1=0\n",
        "num2=1\n",
        "fib_num=10\n",
        "fib_series=0\n",
        "if(fib_num==0):\n",
        "  print(fib_num)\n",
        "elif(fib_num==1):\n",
        "  print(fib_series)\n",
        "else:\n",
        "  print(num1)\n",
        "  print(num2)\n",
        "  for i in range(0,fib_num-2):\n",
        "    fib_series=num1+num2\n",
        "    num1=num2\n",
        "    num2=fib_series\n",
        "    print(fib_series)"
      ],
      "metadata": {
        "colab": {
          "base_uri": "https://localhost:8080/"
        },
        "id": "91piTTdJVxLD",
        "outputId": "47f67709-e223-4bc6-975f-15948c0394b6"
      },
      "execution_count": 2,
      "outputs": [
        {
          "output_type": "stream",
          "name": "stdout",
          "text": [
            "0\n",
            "1\n",
            "1\n",
            "2\n",
            "3\n",
            "5\n",
            "8\n",
            "13\n",
            "21\n",
            "34\n"
          ]
        }
      ]
    },
    {
      "cell_type": "code",
      "source": [
        "#palindrome\n",
        "num=int(input(\"enter the number:\"))\n",
        "k=num\n",
        "sum=0\n",
        "while(num>0):\n",
        "  dig=num%10\n",
        "  sum=sum*10+dig\n",
        "  num=num//10\n",
        "if k==sum:\n",
        "  print(\"palindrome\")\n",
        "else:\n",
        "  print(sum)"
      ],
      "metadata": {
        "colab": {
          "base_uri": "https://localhost:8080/"
        },
        "id": "yzaoQngvXMaV",
        "outputId": "31690285-8cc4-4ad4-f41f-e20473c53b0b"
      },
      "execution_count": 4,
      "outputs": [
        {
          "output_type": "stream",
          "name": "stdout",
          "text": [
            "enter the number:4589\n",
            "9854\n"
          ]
        }
      ]
    },
    {
      "cell_type": "code",
      "source": [
        "#balleon\n",
        "n=int(input(\"enter the number:\"))\n",
        "_prime=True\n",
        "for i in range(2,n):\n",
        "  if(n%2==0):\n",
        "    _prime=False\n",
        "    break\n",
        "if(_prime==True):\n",
        "  print(n,\"prime number\")\n",
        "else:\n",
        "  print(n,\"not PRIME NUMBER\")"
      ],
      "metadata": {
        "colab": {
          "base_uri": "https://localhost:8080/"
        },
        "id": "i_Ca0qyGXoRL",
        "outputId": "32f54a4f-3958-42ed-c6a3-44f3b0724897"
      },
      "execution_count": 5,
      "outputs": [
        {
          "output_type": "stream",
          "name": "stdout",
          "text": [
            "enter the number:5566\n",
            "5566 not PRIME NUMBER\n"
          ]
        }
      ]
    },
    {
      "cell_type": "code",
      "source": [
        "#palindrome number\n",
        "a=int(input(\"enter the number:\"))\n",
        "t=a\n",
        "c=0\n",
        "while(a>0):\n",
        "  d=a%10\n",
        "  c=c*10+d\n",
        "  a=a//10#floor value\n",
        "if(t==c):\n",
        "  print(t,\"is a palindrome\")\n",
        "else:\n",
        "  print(t,\"is NOT a palindrome\")\n",
        "  #sum\n",
        "print(c)"
      ],
      "metadata": {
        "colab": {
          "base_uri": "https://localhost:8080/"
        },
        "id": "4rn5gagcWivW",
        "outputId": "b7f6b568-2d67-4ac9-8280-2867739e7def"
      },
      "execution_count": 3,
      "outputs": [
        {
          "output_type": "stream",
          "name": "stdout",
          "text": [
            "enter the number:8956\n",
            "8956 is NOT a palindrome\n",
            "6598\n"
          ]
        }
      ]
    },
    {
      "cell_type": "code",
      "source": [
        "a=7\n",
        "b=5\n",
        "print(round(a/b))"
      ],
      "metadata": {
        "colab": {
          "base_uri": "https://localhost:8080/"
        },
        "id": "SDVpROdB-jaw",
        "outputId": "e4fba4f8-7f08-4f73-d63f-939008de1eb6"
      },
      "execution_count": null,
      "outputs": [
        {
          "output_type": "stream",
          "name": "stdout",
          "text": [
            "1\n"
          ]
        }
      ]
    },
    {
      "cell_type": "code",
      "source": [
        "a=7\n",
        "b=5\n",
        "c=a//b\n",
        "print(c)"
      ],
      "metadata": {
        "colab": {
          "base_uri": "https://localhost:8080/"
        },
        "id": "NF_1-CjT_EWM",
        "outputId": "3c3ede76-7cb1-4d6f-cc2b-5778a98daa64"
      },
      "execution_count": null,
      "outputs": [
        {
          "output_type": "stream",
          "name": "stdout",
          "text": [
            "1\n"
          ]
        }
      ]
    },
    {
      "cell_type": "code",
      "source": [
        "num=2246\n",
        "digit1=2246%10\n",
        "print(digit1)\n",
        "\n",
        "\n"
      ],
      "metadata": {
        "colab": {
          "base_uri": "https://localhost:8080/"
        },
        "id": "UZJrwVgL_Rdz",
        "outputId": "c9b582e0-1413-434c-8de0-c6ced216bb58"
      },
      "execution_count": null,
      "outputs": [
        {
          "output_type": "stream",
          "name": "stdout",
          "text": [
            "6\n"
          ]
        }
      ]
    },
    {
      "cell_type": "code",
      "source": [
        "sum=0\n",
        "num=5246\n",
        "while(num>0):\n",
        "  digit=num%10\n",
        "  sum=sum+digit\n",
        "  num=num//10\n",
        "print(sum)\n",
        "\n"
      ],
      "metadata": {
        "colab": {
          "base_uri": "https://localhost:8080/"
        },
        "id": "qxWZ0Zf6A5Da",
        "outputId": "8c25bf1e-5b64-46c3-a41e-849014d1de49"
      },
      "execution_count": null,
      "outputs": [
        {
          "output_type": "stream",
          "name": "stdout",
          "text": [
            "17\n"
          ]
        }
      ]
    },
    {
      "cell_type": "code",
      "source": [
        "#reverse the number\n",
        "rev=0\n",
        "num=45968\n",
        "while(num>0):\n",
        "  digit=num%10\n",
        "  rev=rev*10+digit\n",
        "  num=num//10\n",
        "print(rev)\n"
      ],
      "metadata": {
        "colab": {
          "base_uri": "https://localhost:8080/"
        },
        "id": "wWzNllCoDbc7",
        "outputId": "a2d3a72b-b06e-4917-9c45-208865511e56"
      },
      "execution_count": null,
      "outputs": [
        {
          "output_type": "stream",
          "name": "stdout",
          "text": [
            "86954\n"
          ]
        }
      ]
    },
    {
      "cell_type": "code",
      "source": [
        "a,b=0,1\n",
        "print(a)\n",
        "print(b)\n",
        "for i in range(2,10):\n",
        "  a,b=b,a+b\n",
        "  print(b)\n",
        "\n"
      ],
      "metadata": {
        "colab": {
          "base_uri": "https://localhost:8080/"
        },
        "id": "I8fEpHjsF0DU",
        "outputId": "0972aee5-9f92-4ba0-e5c5-8ddd53916143"
      },
      "execution_count": null,
      "outputs": [
        {
          "output_type": "stream",
          "name": "stdout",
          "text": [
            "0\n",
            "1\n",
            "1\n",
            "2\n",
            "3\n",
            "5\n",
            "8\n",
            "13\n",
            "21\n",
            "34\n"
          ]
        }
      ]
    },
    {
      "cell_type": "code",
      "source": [
        "first_num,second_num=0,1\n",
        "print(first_num)\n",
        "print(second_num)\n",
        "for i in range(2,10):\n",
        "  third_num=first_num+second_num\n",
        "  first_num=second_num\n",
        "  second_num=third_num\n",
        "  print(third_num)\n",
        "\n"
      ],
      "metadata": {
        "colab": {
          "base_uri": "https://localhost:8080/"
        },
        "id": "KbrvpPj2Hq20",
        "outputId": "58b9f9c5-c0ae-49d2-acc2-71d9de7ee714"
      },
      "execution_count": null,
      "outputs": [
        {
          "output_type": "stream",
          "name": "stdout",
          "text": [
            "0\n",
            "1\n",
            "1\n",
            "2\n",
            "3\n",
            "5\n",
            "8\n",
            "13\n",
            "21\n",
            "34\n"
          ]
        }
      ]
    }
  ]
}