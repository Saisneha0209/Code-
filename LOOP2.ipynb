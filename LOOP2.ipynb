{
  "nbformat": 4,
  "nbformat_minor": 0,
  "metadata": {
    "colab": {
      "provenance": [],
      "authorship_tag": "ABX9TyMY77m2aIh71MueJcpiA6hw",
      "include_colab_link": true
    },
    "kernelspec": {
      "name": "python3",
      "display_name": "Python 3"
    },
    "language_info": {
      "name": "python"
    }
  },
  "cells": [
    {
      "cell_type": "markdown",
      "metadata": {
        "id": "view-in-github",
        "colab_type": "text"
      },
      "source": [
        "<a href=\"https://colab.research.google.com/github/Saisneha0209/Code-/blob/main/LOOP2.ipynb\" target=\"_parent\"><img src=\"https://colab.research.google.com/assets/colab-badge.svg\" alt=\"Open In Colab\"/></a>"
      ]
    },
    {
      "cell_type": "code",
      "execution_count": 9,
      "metadata": {
        "colab": {
          "base_uri": "https://localhost:8080/"
        },
        "id": "V7xLMkTy9-Ta",
        "outputId": "1c257fcf-b344-4904-b4fb-4000346ae10c"
      },
      "outputs": [
        {
          "output_type": "stream",
          "name": "stdout",
          "text": [
            "1.4\n"
          ]
        }
      ],
      "source": [
        "a=7\n",
        "b=5\n",
        "c=a/b\n",
        "print(c)"
      ]
    },
    {
      "cell_type": "code",
      "source": [
        "a=7\n",
        "b=5\n",
        "print(round(a/b))"
      ],
      "metadata": {
        "colab": {
          "base_uri": "https://localhost:8080/"
        },
        "id": "SDVpROdB-jaw",
        "outputId": "e4fba4f8-7f08-4f73-d63f-939008de1eb6"
      },
      "execution_count": 10,
      "outputs": [
        {
          "output_type": "stream",
          "name": "stdout",
          "text": [
            "1\n"
          ]
        }
      ]
    },
    {
      "cell_type": "code",
      "source": [
        "a=7\n",
        "b=5\n",
        "c=a//b\n",
        "print(c)"
      ],
      "metadata": {
        "colab": {
          "base_uri": "https://localhost:8080/"
        },
        "id": "NF_1-CjT_EWM",
        "outputId": "3c3ede76-7cb1-4d6f-cc2b-5778a98daa64"
      },
      "execution_count": 11,
      "outputs": [
        {
          "output_type": "stream",
          "name": "stdout",
          "text": [
            "1\n"
          ]
        }
      ]
    },
    {
      "cell_type": "code",
      "source": [
        "num=2246\n",
        "digit1=2246%10\n",
        "print(digit1)\n",
        "\n",
        "\n"
      ],
      "metadata": {
        "colab": {
          "base_uri": "https://localhost:8080/"
        },
        "id": "UZJrwVgL_Rdz",
        "outputId": "c9b582e0-1413-434c-8de0-c6ced216bb58"
      },
      "execution_count": 13,
      "outputs": [
        {
          "output_type": "stream",
          "name": "stdout",
          "text": [
            "6\n"
          ]
        }
      ]
    },
    {
      "cell_type": "code",
      "source": [
        "sum=0\n",
        "num=5246\n",
        "while(num>0):\n",
        "  digit=num%10\n",
        "  sum=sum+digit\n",
        "  num=num//10\n",
        "print(sum)\n",
        "\n"
      ],
      "metadata": {
        "colab": {
          "base_uri": "https://localhost:8080/"
        },
        "id": "qxWZ0Zf6A5Da",
        "outputId": "8c25bf1e-5b64-46c3-a41e-849014d1de49"
      },
      "execution_count": 16,
      "outputs": [
        {
          "output_type": "stream",
          "name": "stdout",
          "text": [
            "17\n"
          ]
        }
      ]
    },
    {
      "cell_type": "code",
      "source": [
        "#reverse the number\n",
        "rev=0\n",
        "num=45968\n",
        "while(num>0):\n",
        "  digit=num%10\n",
        "  rev=rev*10+digit\n",
        "  num=num//10\n",
        "print(rev)\n",
        ""
      ],
      "metadata": {
        "colab": {
          "base_uri": "https://localhost:8080/"
        },
        "id": "wWzNllCoDbc7",
        "outputId": "a2d3a72b-b06e-4917-9c45-208865511e56"
      },
      "execution_count": 24,
      "outputs": [
        {
          "output_type": "stream",
          "name": "stdout",
          "text": [
            "86954\n"
          ]
        }
      ]
    },
    {
      "cell_type": "code",
      "source": [
        "a,b=0,1\n",
        "print(a)\n",
        "print(b)\n",
        "for i in range(2,10):\n",
        "  a,b=b,a+b\n",
        "  print(b)\n",
        "\n"
      ],
      "metadata": {
        "colab": {
          "base_uri": "https://localhost:8080/"
        },
        "id": "I8fEpHjsF0DU",
        "outputId": "0972aee5-9f92-4ba0-e5c5-8ddd53916143"
      },
      "execution_count": 28,
      "outputs": [
        {
          "output_type": "stream",
          "name": "stdout",
          "text": [
            "0\n",
            "1\n",
            "1\n",
            "2\n",
            "3\n",
            "5\n",
            "8\n",
            "13\n",
            "21\n",
            "34\n"
          ]
        }
      ]
    },
    {
      "cell_type": "code",
      "source": [
        "first_num,second_num=0,1\n",
        "print(first_num)\n",
        "print(second_num)\n",
        "for i in range(2,10):\n",
        "  third_num=first_num+second_num\n",
        "  first_num=second_num\n",
        "  second_num=third_num\n",
        "  print(third_num)\n",
        "\n"
      ],
      "metadata": {
        "colab": {
          "base_uri": "https://localhost:8080/"
        },
        "id": "KbrvpPj2Hq20",
        "outputId": "58b9f9c5-c0ae-49d2-acc2-71d9de7ee714"
      },
      "execution_count": 37,
      "outputs": [
        {
          "output_type": "stream",
          "name": "stdout",
          "text": [
            "0\n",
            "1\n",
            "1\n",
            "2\n",
            "3\n",
            "5\n",
            "8\n",
            "13\n",
            "21\n",
            "34\n"
          ]
        }
      ]
    }
  ]
}