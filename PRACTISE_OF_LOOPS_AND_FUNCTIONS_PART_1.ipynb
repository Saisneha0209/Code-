{
  "nbformat": 4,
  "nbformat_minor": 0,
  "metadata": {
    "colab": {
      "provenance": [],
      "authorship_tag": "ABX9TyNhNEkfkdo3s4NfDXhrlpvP",
      "include_colab_link": true
    },
    "kernelspec": {
      "name": "python3",
      "display_name": "Python 3"
    },
    "language_info": {
      "name": "python"
    }
  },
  "cells": [
    {
      "cell_type": "markdown",
      "metadata": {
        "id": "view-in-github",
        "colab_type": "text"
      },
      "source": [
        "<a href=\"https://colab.research.google.com/github/Saisneha0209/Code-/blob/main/PRACTISE_OF_LOOPS_AND_FUNCTIONS_PART_1.ipynb\" target=\"_parent\"><img src=\"https://colab.research.google.com/assets/colab-badge.svg\" alt=\"Open In Colab\"/></a>"
      ]
    },
    {
      "cell_type": "code",
      "execution_count": 1,
      "metadata": {
        "colab": {
          "base_uri": "https://localhost:8080/"
        },
        "id": "Y4M3lJqxBFVy",
        "outputId": "9258f414-dfd5-406a-c270-f642936f7a46"
      },
      "outputs": [
        {
          "output_type": "stream",
          "name": "stdout",
          "text": [
            "ENTER YOUR FIRST NUMBER:25\n",
            "ENTER YOUR SECOND NUMBER:25\n",
            "Sum of both numbers together are: 50\n"
          ]
        }
      ],
      "source": [
        "#Q1\n",
        "first_number=int(input(\"ENTER YOUR FIRST NUMBER:\"))\n",
        "second_number=int(input(\"ENTER YOUR SECOND NUMBER:\"))\n",
        "sum=first_number+second_number\n",
        "print(\"Sum of both numbers together are:\",sum)"
      ]
    },
    {
      "cell_type": "code",
      "source": [
        "#Q2\n",
        "side=int(input(\"ENTER SIDE OF A SQUARE:\"))\n",
        "area=side*side\n",
        "print(\"THE AREA OF THE SQAURE IS:\",area)"
      ],
      "metadata": {
        "colab": {
          "base_uri": "https://localhost:8080/"
        },
        "id": "Ol0ZB8wKCC8C",
        "outputId": "76ce0489-eefc-4006-d21d-8fcbdb947640"
      },
      "execution_count": 2,
      "outputs": [
        {
          "output_type": "stream",
          "name": "stdout",
          "text": [
            "ENTER SIDE OF A SQUARE:5\n",
            "THE AREA OF THE SQAURE IS: 25\n"
          ]
        }
      ]
    },
    {
      "cell_type": "code",
      "source": [
        "#Q3\n",
        "first=float(input(\"ENTER FIRST NUMBER:\"))\n",
        "second=float(input(\"ENTER SECOND NUMBER\"))\n",
        "avg=(first+second)/2\n",
        "print(\"THE AVERAGE OF THE NUMBERS ARE:\",avg)"
      ],
      "metadata": {
        "colab": {
          "base_uri": "https://localhost:8080/"
        },
        "id": "lZZ4mQPTCanK",
        "outputId": "71dbb9f2-c8ce-4ea7-b4e1-5a0866d3e794"
      },
      "execution_count": 3,
      "outputs": [
        {
          "output_type": "stream",
          "name": "stdout",
          "text": [
            "ENTER FIRST NUMBER:2\n",
            "ENTER SECOND NUMBER2\n",
            "THE AVERAGE OF THE NUMBERS ARE: 2.0\n"
          ]
        }
      ]
    },
    {
      "cell_type": "code",
      "source": [
        "#Q4\n",
        "a=int(input(\"ENTER FIRST NUMBER:\"))\n",
        "b=int(input(\"ENTER SECOND NUMBER:\"))\n",
        "if a>=b:\n",
        "  print(\"TRUE\")\n",
        "else:\n",
        "  print(\"FALSE\")"
      ],
      "metadata": {
        "colab": {
          "base_uri": "https://localhost:8080/"
        },
        "id": "VoRZ2L4ODGjI",
        "outputId": "e1882984-8949-4012-bb46-528e5b704bab"
      },
      "execution_count": 4,
      "outputs": [
        {
          "output_type": "stream",
          "name": "stdout",
          "text": [
            "ENTER FIRST NUMBER:5\n",
            "ENTER SECOND NUMBER:9\n",
            "FALSE\n"
          ]
        }
      ]
    },
    {
      "cell_type": "code",
      "source": [
        "#Q5\n",
        "num=int(input(\"ENTER YOUR NUMBER\"))\n",
        "rem=num%2\n",
        "if rem == 0:\n",
        "  print(\"NUMBER IS EVEN\")\n",
        "else:\n",
        "  print(\"NUMBER IS ODD\")"
      ],
      "metadata": {
        "colab": {
          "base_uri": "https://localhost:8080/"
        },
        "id": "ELGe6S5dDpNJ",
        "outputId": "228127b8-1739-47dc-cbe1-35a2ec238ae4"
      },
      "execution_count": 5,
      "outputs": [
        {
          "output_type": "stream",
          "name": "stdout",
          "text": [
            "ENTER YOUR NUMBER52\n",
            "NUMBER IS EVEN\n"
          ]
        }
      ]
    },
    {
      "cell_type": "code",
      "source": [
        "#Q6\n",
        "a=int(input(\"ENTER FIRST NUMBER:\"))\n",
        "b=int(input(\"ENTER SECOND NUMBER:\"))\n",
        "c=int(input(\"ENTER THIRD NUMBER\"))\n",
        "if a>=b and a>=c:\n",
        "  print(\"LARGEST NO IS\",a)\n",
        "elif b>=c:\n",
        "  print(\"LARGEST NO IS\",b)\n",
        "else:\n",
        "  print(\"LARGEST NO IS\",c)"
      ],
      "metadata": {
        "colab": {
          "base_uri": "https://localhost:8080/"
        },
        "id": "tSf3s3unEXOn",
        "outputId": "00ee2bdd-e7b8-4449-a2e3-9338a4698ae2"
      },
      "execution_count": 6,
      "outputs": [
        {
          "output_type": "stream",
          "name": "stdout",
          "text": [
            "ENTER FIRST NUMBER:45\n",
            "ENTER SECOND NUMBER:45\n",
            "ENTER THIRD NUMBER89\n",
            "LARGEST NO IS 89\n"
          ]
        }
      ]
    },
    {
      "cell_type": "code",
      "source": [
        "#Q7\n",
        "x=int(input(\"enter your number\"))\n",
        "if x % 7 == 0:\n",
        "  print(\"MULTIPLE OF SEVEN\")\n",
        "else:\n",
        "  print(\"NOT A MULTIPLE OF SEVEN\")\n",
        ""
      ],
      "metadata": {
        "colab": {
          "base_uri": "https://localhost:8080/"
        },
        "id": "VzSGEgSrFVa9",
        "outputId": "9ef771dd-8615-48f6-8413-5019103496cc"
      },
      "execution_count": 7,
      "outputs": [
        {
          "output_type": "stream",
          "name": "stdout",
          "text": [
            "enter your number14\n",
            "MULTIPLE OF SEVEN\n"
          ]
        }
      ]
    },
    {
      "cell_type": "code",
      "source": [
        "#Q8\n",
        "for i in range(1,101):\n",
        "  print(i)\n",
        "  i+=1"
      ],
      "metadata": {
        "colab": {
          "base_uri": "https://localhost:8080/"
        },
        "id": "BIqIHvP7Fqxm",
        "outputId": "2d3f6e64-fd66-47df-9c43-67da7964fa28"
      },
      "execution_count": 8,
      "outputs": [
        {
          "output_type": "stream",
          "name": "stdout",
          "text": [
            "1\n",
            "2\n",
            "3\n",
            "4\n",
            "5\n",
            "6\n",
            "7\n",
            "8\n",
            "9\n",
            "10\n",
            "11\n",
            "12\n",
            "13\n",
            "14\n",
            "15\n",
            "16\n",
            "17\n",
            "18\n",
            "19\n",
            "20\n",
            "21\n",
            "22\n",
            "23\n",
            "24\n",
            "25\n",
            "26\n",
            "27\n",
            "28\n",
            "29\n",
            "30\n",
            "31\n",
            "32\n",
            "33\n",
            "34\n",
            "35\n",
            "36\n",
            "37\n",
            "38\n",
            "39\n",
            "40\n",
            "41\n",
            "42\n",
            "43\n",
            "44\n",
            "45\n",
            "46\n",
            "47\n",
            "48\n",
            "49\n",
            "50\n",
            "51\n",
            "52\n",
            "53\n",
            "54\n",
            "55\n",
            "56\n",
            "57\n",
            "58\n",
            "59\n",
            "60\n",
            "61\n",
            "62\n",
            "63\n",
            "64\n",
            "65\n",
            "66\n",
            "67\n",
            "68\n",
            "69\n",
            "70\n",
            "71\n",
            "72\n",
            "73\n",
            "74\n",
            "75\n",
            "76\n",
            "77\n",
            "78\n",
            "79\n",
            "80\n",
            "81\n",
            "82\n",
            "83\n",
            "84\n",
            "85\n",
            "86\n",
            "87\n",
            "88\n",
            "89\n",
            "90\n",
            "91\n",
            "92\n",
            "93\n",
            "94\n",
            "95\n",
            "96\n",
            "97\n",
            "98\n",
            "99\n",
            "100\n"
          ]
        }
      ]
    },
    {
      "cell_type": "code",
      "source": [
        "for i in range(100,0,-1):\n",
        "  print(i)\n",
        ""
      ],
      "metadata": {
        "colab": {
          "base_uri": "https://localhost:8080/"
        },
        "id": "am82NDMGGR72",
        "outputId": "38f164cb-5c7b-4bd3-8fd6-f4e7c6a0e2a8"
      },
      "execution_count": 11,
      "outputs": [
        {
          "output_type": "stream",
          "name": "stdout",
          "text": [
            "100\n",
            "99\n",
            "98\n",
            "97\n",
            "96\n",
            "95\n",
            "94\n",
            "93\n",
            "92\n",
            "91\n",
            "90\n",
            "89\n",
            "88\n",
            "87\n",
            "86\n",
            "85\n",
            "84\n",
            "83\n",
            "82\n",
            "81\n",
            "80\n",
            "79\n",
            "78\n",
            "77\n",
            "76\n",
            "75\n",
            "74\n",
            "73\n",
            "72\n",
            "71\n",
            "70\n",
            "69\n",
            "68\n",
            "67\n",
            "66\n",
            "65\n",
            "64\n",
            "63\n",
            "62\n",
            "61\n",
            "60\n",
            "59\n",
            "58\n",
            "57\n",
            "56\n",
            "55\n",
            "54\n",
            "53\n",
            "52\n",
            "51\n",
            "50\n",
            "49\n",
            "48\n",
            "47\n",
            "46\n",
            "45\n",
            "44\n",
            "43\n",
            "42\n",
            "41\n",
            "40\n",
            "39\n",
            "38\n",
            "37\n",
            "36\n",
            "35\n",
            "34\n",
            "33\n",
            "32\n",
            "31\n",
            "30\n",
            "29\n",
            "28\n",
            "27\n",
            "26\n",
            "25\n",
            "24\n",
            "23\n",
            "22\n",
            "21\n",
            "20\n",
            "19\n",
            "18\n",
            "17\n",
            "16\n",
            "15\n",
            "14\n",
            "13\n",
            "12\n",
            "11\n",
            "10\n",
            "9\n",
            "8\n",
            "7\n",
            "6\n",
            "5\n",
            "4\n",
            "3\n",
            "2\n",
            "1\n"
          ]
        }
      ]
    },
    {
      "cell_type": "code",
      "source": [
        "n=5\n",
        "sum=0\n",
        "for i in range(1,n+1):\n",
        "  sum+=i\n",
        "print(\"TOTAL SUM IS:\",sum)"
      ],
      "metadata": {
        "colab": {
          "base_uri": "https://localhost:8080/"
        },
        "id": "1RNtOARCG4-s",
        "outputId": "dc95f361-9be0-4f0c-9653-e38af84cfe05"
      },
      "execution_count": 18,
      "outputs": [
        {
          "output_type": "stream",
          "name": "stdout",
          "text": [
            "TOTAL SUM IS: 15\n"
          ]
        }
      ]
    },
    {
      "cell_type": "code",
      "source": [
        "n=5\n",
        "sum=0\n",
        "for i in range(1,n+1):\n",
        "  sum+=i\n",
        " #TO SHOW THE DIFFERENCE\n",
        "  print(\"TOTAL SUM IS:\",sum)"
      ],
      "metadata": {
        "colab": {
          "base_uri": "https://localhost:8080/"
        },
        "id": "T-Xxhw9dHwBK",
        "outputId": "6184f121-bf3c-4fbf-e2d8-ca31024e47ee"
      },
      "execution_count": 19,
      "outputs": [
        {
          "output_type": "stream",
          "name": "stdout",
          "text": [
            "TOTAL SUM IS: 1\n",
            "TOTAL SUM IS: 3\n",
            "TOTAL SUM IS: 6\n",
            "TOTAL SUM IS: 10\n",
            "TOTAL SUM IS: 15\n"
          ]
        }
      ]
    },
    {
      "cell_type": "code",
      "source": [
        "n=4\n",
        "fact=1\n",
        "i=1\n",
        "while i <=n:\n",
        "  fact*= i\n",
        "  i+=1\n",
        "print(\"factorial=\",fact)"
      ],
      "metadata": {
        "colab": {
          "base_uri": "https://localhost:8080/"
        },
        "id": "XI3F-npbH3FP",
        "outputId": "7a5113bb-cfc2-45ad-e00e-994ea5382815"
      },
      "execution_count": 20,
      "outputs": [
        {
          "output_type": "stream",
          "name": "stdout",
          "text": [
            "factorial= 24\n"
          ]
        }
      ]
    },
    {
      "cell_type": "code",
      "source": [
        "n=5\n",
        "fact=1\n",
        "i=1\n",
        "while i<=n:\n",
        "  fact*=i\n",
        "  i+=1\n",
        "print(\"factorial is:\",fact)\n"
      ],
      "metadata": {
        "colab": {
          "base_uri": "https://localhost:8080/"
        },
        "id": "HbjAGVVDI7W8",
        "outputId": "69bd9ce9-a245-4368-c923-a494494f4201"
      },
      "execution_count": 61,
      "outputs": [
        {
          "output_type": "stream",
          "name": "stdout",
          "text": [
            "factorial is: 120\n"
          ]
        }
      ]
    },
    {
      "cell_type": "code",
      "source": [
        "for i in range(5):\n",
        "  print(\"SAISNEHA\")"
      ],
      "metadata": {
        "colab": {
          "base_uri": "https://localhost:8080/"
        },
        "id": "ByDIP2bPJdj_",
        "outputId": "41198b6c-1632-4159-f9b2-d0aa942b4fdd"
      },
      "execution_count": 25,
      "outputs": [
        {
          "output_type": "stream",
          "name": "stdout",
          "text": [
            "SAISNEHA\n",
            "SAISNEHA\n",
            "SAISNEHA\n",
            "SAISNEHA\n",
            "SAISNEHA\n"
          ]
        }
      ]
    },
    {
      "cell_type": "code",
      "source": [
        "first=int(input(\"enter first numbers\"))\n",
        "second=int(input(\"enter second number\"))\n",
        "sum=first+second\n",
        "difference=first-second\n",
        "product=first*second\n",
        "quotient=first/second\n",
        "print(sum)\n",
        "print(difference)\n",
        "print(product)\n",
        "print(int(quotient))"
      ],
      "metadata": {
        "colab": {
          "base_uri": "https://localhost:8080/"
        },
        "id": "hFcy-IO8KHye",
        "outputId": "28a2a83d-69c5-4710-b608-25617593f4b0"
      },
      "execution_count": 27,
      "outputs": [
        {
          "output_type": "stream",
          "name": "stdout",
          "text": [
            "enter first numbers45\n",
            "enter second number85\n",
            "130\n",
            "-40\n",
            "3825\n",
            "0\n"
          ]
        }
      ]
    },
    {
      "cell_type": "code",
      "source": [
        "a=int(input(\"enter first number\"))\n",
        "if a % 2 ==0:\n",
        "  print(\"NUM IS EVEN\")\n",
        "else:\n",
        "  print(\"ODD\")"
      ],
      "metadata": {
        "colab": {
          "base_uri": "https://localhost:8080/"
        },
        "id": "3tbWVd0MKvGP",
        "outputId": "3ae8a79d-5a08-4a6a-8732-3898a4b6cbdb"
      },
      "execution_count": 28,
      "outputs": [
        {
          "output_type": "stream",
          "name": "stdout",
          "text": [
            "enter first number45\n",
            "ODD\n"
          ]
        }
      ]
    },
    {
      "cell_type": "code",
      "source": [
        "n=int(input(\"enter your number\"))\n",
        "for i in range(1,11):\n",
        "   print(n*i)\n",
        "\n"
      ],
      "metadata": {
        "colab": {
          "base_uri": "https://localhost:8080/"
        },
        "id": "dTOIIVg3MZQk",
        "outputId": "c19ac07f-38c0-497f-e62a-502859de7149"
      },
      "execution_count": 32,
      "outputs": [
        {
          "output_type": "stream",
          "name": "stdout",
          "text": [
            "enter your number4\n",
            "4\n",
            "8\n",
            "12\n",
            "16\n",
            "20\n",
            "24\n",
            "28\n",
            "32\n",
            "36\n",
            "40\n"
          ]
        }
      ]
    },
    {
      "cell_type": "code",
      "source": [
        "for i in range(1,11):\n",
        "  print(i*i)"
      ],
      "metadata": {
        "colab": {
          "base_uri": "https://localhost:8080/"
        },
        "id": "BKf1nPV6NtzY",
        "outputId": "8788649b-e95e-485f-97d9-82804897aef4"
      },
      "execution_count": 33,
      "outputs": [
        {
          "output_type": "stream",
          "name": "stdout",
          "text": [
            "1\n",
            "4\n",
            "9\n",
            "16\n",
            "25\n",
            "36\n",
            "49\n",
            "64\n",
            "81\n",
            "100\n"
          ]
        }
      ]
    },
    {
      "cell_type": "code",
      "source": [
        "n=int(input(\"enter the number\"))\n",
        "if n<0:\n",
        "  print(\"NEGATIVE\")\n",
        "elif n==0:\n",
        "  print(\"ZERO\")\n",
        "else:\n",
        "  print(\"POSITIVE\")"
      ],
      "metadata": {
        "colab": {
          "base_uri": "https://localhost:8080/"
        },
        "id": "ev6__nk5OAMd",
        "outputId": "5a05845b-e282-40dd-c481-63e3c8c4e52b"
      },
      "execution_count": 36,
      "outputs": [
        {
          "output_type": "stream",
          "name": "stdout",
          "text": [
            "enter the number45\n",
            "POSITIVE\n"
          ]
        }
      ]
    },
    {
      "cell_type": "code",
      "source": [
        "for i in range(1,51):\n",
        "  if i % 2 ==0:\n",
        "    print(i)\n",
        "\n"
      ],
      "metadata": {
        "colab": {
          "base_uri": "https://localhost:8080/"
        },
        "id": "43RB06koOhFi",
        "outputId": "c709a9a5-1d65-43d4-d095-233eb131abd0"
      },
      "execution_count": 40,
      "outputs": [
        {
          "output_type": "stream",
          "name": "stdout",
          "text": [
            "2\n",
            "4\n",
            "6\n",
            "8\n",
            "10\n",
            "12\n",
            "14\n",
            "16\n",
            "18\n",
            "20\n",
            "22\n",
            "24\n",
            "26\n",
            "28\n",
            "30\n",
            "32\n",
            "34\n",
            "36\n",
            "38\n",
            "40\n",
            "42\n",
            "44\n",
            "46\n",
            "48\n",
            "50\n"
          ]
        }
      ]
    },
    {
      "cell_type": "code",
      "source": [
        "age=int(input(\"enter your age\"))\n",
        "if age<=10:\n",
        " print(\"CHILD\")\n",
        "elif age<=18 and age>=11:\n",
        "   print(\"TEENAGER\")\n",
        "else:\n",
        " print(\"ADULT\")"
      ],
      "metadata": {
        "colab": {
          "base_uri": "https://localhost:8080/"
        },
        "id": "VUrr1MU4QMay",
        "outputId": "028fd56b-5a0d-42cf-a4e3-adec368b55fa"
      },
      "execution_count": 45,
      "outputs": [
        {
          "output_type": "stream",
          "name": "stdout",
          "text": [
            "enter your age4\n",
            "CHILD\n"
          ]
        }
      ]
    },
    {
      "cell_type": "markdown",
      "source": [
        "n=5\n",
        "sum=0\n",
        "for i in range(1,n+1):\n",
        "  sum+=i\n",
        " #TO SHOW THE DIFFERENCE\n",
        "  print(\"TOTAL SUM IS:\",sum)"
      ],
      "metadata": {
        "id": "sKObY_InSupT"
      }
    },
    {
      "cell_type": "code",
      "source": [
        "n=4\n",
        "sum=0\n",
        "for i in range(1,n+1):\n",
        "  sum+=i\n",
        "print(\"total sum is\",sum)\n",
        ""
      ],
      "metadata": {
        "colab": {
          "base_uri": "https://localhost:8080/"
        },
        "id": "KG5LXbxZQ41v",
        "outputId": "b2df3278-5d02-4abb-aafd-86a974fa73a0"
      },
      "execution_count": 57,
      "outputs": [
        {
          "output_type": "stream",
          "name": "stdout",
          "text": [
            "total sum is 10\n"
          ]
        }
      ]
    },
    {
      "cell_type": "code",
      "source": [
        "fact=1\n",
        "while i in range (i<=5 and i>=1):\n",
        "  print(\"factorial is\",fact*1)\n"
      ],
      "metadata": {
        "id": "jMgl3SDCTIA1"
      },
      "execution_count": 58,
      "outputs": []
    },
    {
      "cell_type": "code",
      "source": [
        "while i>=1 and i<=10:\n",
        "  print(i)\n",
        "  i+=1"
      ],
      "metadata": {
        "colab": {
          "base_uri": "https://localhost:8080/"
        },
        "id": "qppGYF77LSL5",
        "outputId": "cddc2f37-9d2b-48d7-db74-71cb785a92c0"
      },
      "execution_count": 29,
      "outputs": [
        {
          "output_type": "stream",
          "name": "stdout",
          "text": [
            "4\n",
            "5\n",
            "6\n",
            "7\n",
            "8\n",
            "9\n",
            "10\n"
          ]
        }
      ]
    },
    {
      "cell_type": "code",
      "source": [
        "n=int(input(\"ENTER YOUR NUMBER:\"))\n",
        "for i in range(1,11):\n",
        "  print(n*i)"
      ],
      "metadata": {
        "colab": {
          "base_uri": "https://localhost:8080/"
        },
        "id": "XWvV016tGo9p",
        "outputId": "cb224440-0371-4500-fab7-8229e2a07ba0"
      },
      "execution_count": 12,
      "outputs": [
        {
          "output_type": "stream",
          "name": "stdout",
          "text": [
            "ENTER YOUR NUMBER:12\n",
            "12\n",
            "24\n",
            "36\n",
            "48\n",
            "60\n",
            "72\n",
            "84\n",
            "96\n",
            "108\n",
            "120\n"
          ]
        }
      ]
    },
    {
      "cell_type": "code",
      "source": [
        "for i in range(1,101):\n",
        "  if i%3==0 and i%5==0:\n",
        "    print(i)"
      ],
      "metadata": {
        "colab": {
          "base_uri": "https://localhost:8080/"
        },
        "id": "eTJJmxZ0b9G7",
        "outputId": "c48f783b-6fea-45e7-97f6-4464c78b79e7"
      },
      "execution_count": 63,
      "outputs": [
        {
          "output_type": "stream",
          "name": "stdout",
          "text": [
            "15\n",
            "30\n",
            "45\n",
            "60\n",
            "75\n",
            "90\n"
          ]
        }
      ]
    },
    {
      "cell_type": "code",
      "source": [
        "a=int(input(\"enter first number\"))\n",
        "b=int(input(\"enter second number\"))\n",
        "c=int(input(\"enter third number\"))\n",
        "if a>=b and a>=c:\n",
        "  print(\"FIRST NUMBER IS THE LARGEST NUMBER\")\n",
        "elif b>=c:\n",
        "  print(\"SECOND NUMBER IS THE LARGEST NUMBER\")\n",
        "else:\n",
        "  print(\"THIRD NUMBER IS THE LARGEST NUMBER\")"
      ],
      "metadata": {
        "colab": {
          "base_uri": "https://localhost:8080/"
        },
        "id": "1qAuk0-xcp9k",
        "outputId": "c4d520dc-4016-44f0-ed7a-24b1127cc531"
      },
      "execution_count": 64,
      "outputs": [
        {
          "output_type": "stream",
          "name": "stdout",
          "text": [
            "enter first number45\n",
            "enter second number89\n",
            "enter third number76\n",
            "SECOND NUMBER IS THE LARGEST NUMBER\n"
          ]
        }
      ]
    },
    {
      "cell_type": "code",
      "source": [
        "def calc_sum(a,b):\n",
        "  sum=a+b\n",
        "  print(sum)\n",
        "  return sum\n",
        "\n",
        "calc_sum(5,10)\n",
        "calc_sum(4,17)\n",
        "calc_sum(7,14)\n",
        "calc_sum(8,10)\n"
      ],
      "metadata": {
        "colab": {
          "base_uri": "https://localhost:8080/"
        },
        "id": "mgJUO9gSkjsN",
        "outputId": "4906fedb-6d8e-4c95-a480-2be8ba463b36"
      },
      "execution_count": 65,
      "outputs": [
        {
          "output_type": "stream",
          "name": "stdout",
          "text": [
            "15\n",
            "21\n",
            "21\n",
            "18\n"
          ]
        },
        {
          "output_type": "execute_result",
          "data": {
            "text/plain": [
              "18"
            ]
          },
          "metadata": {},
          "execution_count": 65
        }
      ]
    },
    {
      "cell_type": "code",
      "source": [
        "def calc_avg(a,b,c):\n",
        "  sum=a+b+c\n",
        "  avg=sum/3\n",
        "  print(avg)\n",
        "  return avg\n",
        "\n",
        "calc_avg(95,97,98)"
      ],
      "metadata": {
        "colab": {
          "base_uri": "https://localhost:8080/"
        },
        "id": "Yscsrq7wlAqR",
        "outputId": "3a031806-ac05-45e5-c736-3ff5b004b37a"
      },
      "execution_count": 70,
      "outputs": [
        {
          "output_type": "stream",
          "name": "stdout",
          "text": [
            "96.66666666666667\n"
          ]
        },
        {
          "output_type": "execute_result",
          "data": {
            "text/plain": [
              "96.66666666666667"
            ]
          },
          "metadata": {},
          "execution_count": 70
        }
      ]
    },
    {
      "cell_type": "code",
      "source": [
        "n=5\n",
        "fact=1\n",
        "for i in range(1,n+1):\n",
        "  fact*=1\n",
        "print(fact)\n"
      ],
      "metadata": {
        "colab": {
          "base_uri": "https://localhost:8080/"
        },
        "id": "U2Zvz5yvl6HD",
        "outputId": "4d92b4ca-7180-4925-f22b-5917f1ae7f98"
      },
      "execution_count": 72,
      "outputs": [
        {
          "output_type": "stream",
          "name": "stdout",
          "text": [
            "1\n"
          ]
        }
      ]
    },
    {
      "cell_type": "code",
      "source": [
        "def calc_fact(n):\n",
        "  fact=1\n",
        "  for i in range(1,n+1):\n",
        "     fact*=i\n",
        "  print(fact)\n",
        "\n",
        "calc_fact(5)\n",
        "calc_fact(8)\n"
      ],
      "metadata": {
        "colab": {
          "base_uri": "https://localhost:8080/"
        },
        "id": "hNZNwFYBmzTc",
        "outputId": "8d50dbd7-7d9f-40ee-a59d-0b6478f03e6f"
      },
      "execution_count": 75,
      "outputs": [
        {
          "output_type": "stream",
          "name": "stdout",
          "text": [
            "120\n",
            "40320\n"
          ]
        }
      ]
    }
  ]
}